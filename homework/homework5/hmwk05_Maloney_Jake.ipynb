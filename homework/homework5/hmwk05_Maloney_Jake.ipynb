{
 "cells": [
  {
   "cell_type": "markdown",
   "metadata": {},
   "source": [
    "# Homework 5: Confidence Intervals, Autograders, Freethrows\n",
    "***\n",
    "\n",
    "**Name**: Jake Maloney\n",
    "\n",
    "***\n",
    "\n",
    "This assignment is due on Moodle by **5pm on Friday April 6th**. Your solutions to theoretical questions should be done in Markdown/MathJax directly below the associated question.  Your solutions to computational questions should include any specified Python code and results as well as written commentary on your conclusions.  Remember that you are encouraged to discuss the problems with your instructors and classmates, but **you must write all code and solutions on your own**.  For a refresher on the course **Collaboration Policy** click [here](https://github.com/dblarremore/csci3022/blob/master/resources/syllabus.md#collaboration-policy).\n",
    "\n",
    "**NOTES**: \n",
    "\n",
    "- Do **NOT** load or use any Python packages that are not available in Anaconda 3.6. \n",
    "- Some problems with code may be autograded.  If we provide a function API **do not** change it.  If we do not provide a function API then you're free to structure your code however you like. \n",
    "- Because you can technically evaluate notebook cells is a non-linear order, it's a good idea to do Cell $\\rightarrow$ Run All as a check before submitting your solutions.  That way if we need to run your code you will know that it will work as expected. \n",
    "- Submit only this Jupyter notebook to Moodle.  Do not compress it using tar, rar, zip, etc. "
   ]
  },
  {
   "cell_type": "code",
   "execution_count": 33,
   "metadata": {
    "collapsed": true,
    "scrolled": true
   },
   "outputs": [],
   "source": [
    "import numpy as np\n",
    "import matplotlib.pylab as plt\n",
    "import pandas as pd\n",
    "from scipy import stats\n",
    "%matplotlib inline"
   ]
  },
  {
   "cell_type": "markdown",
   "metadata": {},
   "source": [
    "### [20 points] Problem 1 - Alcohol Content of Red vs White Wine \n",
    "***\n",
    "\n",
    "Load the data in $\\texttt{winequality-red.csv}$ and $\\texttt{winequality-white.csv}$ into Pandas DataFrames.  A description of this dataset can be found on [Berkeley's Machine Learning Repository](https://archive.ics.uci.edu/ml/datasets/Wine+Quality). The characteristic that we'll be interested in is the wine's alcohol content.  "
   ]
  },
  {
   "cell_type": "code",
   "execution_count": 34,
   "metadata": {
    "collapsed": true
   },
   "outputs": [],
   "source": [
    "dfWineR = pd.read_csv(\"data/winequality-red.csv\", sep = ';')\n",
    "#dfWineR.head(100000)"
   ]
  },
  {
   "cell_type": "code",
   "execution_count": 35,
   "metadata": {
    "collapsed": true
   },
   "outputs": [],
   "source": [
    "dfWineW = pd.read_csv(\"data/winequality-white.csv\", sep = ';')\n",
    "#dfWineW.head(1)"
   ]
  },
  {
   "cell_type": "markdown",
   "metadata": {},
   "source": [
    "**Part A**: Are we justified in using the assumptions of the Central Limit Theorem in our analysis of estimates of the mean of the data?  Justify your response. "
   ]
  },
  {
   "cell_type": "markdown",
   "metadata": {},
   "source": [
    "Yes as the sample size is large enough for each set of data that we can use the CLT and assume the data follows a normal distribution in order to get a good estimate for thhe sample mean for both red and white wine."
   ]
  },
  {
   "cell_type": "markdown",
   "metadata": {},
   "source": [
    "**Part B**: Compute a 95% confidence interval for the mean of the red wine's alcohol content.  Separately, compute a 95% confidence interval for the mean of the white wine's alcohol content. Do all computations in Python. "
   ]
  },
  {
   "cell_type": "code",
   "execution_count": 36,
   "metadata": {},
   "outputs": [
    {
     "name": "stdout",
     "output_type": "stream",
     "text": [
      "White wine 95% confidence interval.\n",
      "[10.479803270898106, 10.54873082465117]\n",
      "Red wine 95% confidence interval.\n",
      "[10.370750037060759, 10.475216191832246]\n"
     ]
    }
   ],
   "source": [
    "RedMean = dfWineR[\"alcohol\"].mean()\n",
    "#print(RedMean)\n",
    "WhiteMean = dfWineW[\"alcohol\"].mean()\n",
    "#print(WhiteMean)\n",
    "alpha = 0.05\n",
    "za = stats.norm.ppf(1-alpha/2)\n",
    "stdW = dfWineW[\"alcohol\"].std()\n",
    "stdR = dfWineR[\"alcohol\"].std()\n",
    "Wsqrt = np.sqrt(4898)\n",
    "Rsqrt = np.sqrt(1599)\n",
    "SeW = stdW / Wsqrt\n",
    "SeR = stdR / Rsqrt\n",
    "#print(stdW)\n",
    "#print(stdR)\n",
    "#print(SeW)\n",
    "#print(SeR)\n",
    "CIWmin = WhiteMean - za * SeW\n",
    "CIWmax = WhiteMean + za * SeW\n",
    "CIWArray = [CIWmin, CIWmax]\n",
    "print(\"White wine 95% confidence interval.\")\n",
    "print(CIWArray)\n",
    "CIRmin = RedMean - za * SeR\n",
    "CIRmax = RedMean + za * SeR\n",
    "CIRArray = [CIRmin, CIRmax]\n",
    "print(\"Red wine 95% confidence interval.\")\n",
    "print(CIRArray)"
   ]
  },
  {
   "cell_type": "markdown",
   "metadata": {},
   "source": [
    "**Part C**: Compute the 95% confidence interval for the difference between the means of the alcohol content of red and white wine. "
   ]
  },
  {
   "cell_type": "code",
   "execution_count": 37,
   "metadata": {},
   "outputs": [
    {
     "name": "stdout",
     "output_type": "stream",
     "text": [
      "95% Confidence Interval for the difference of means\n",
      "[0.028705612083630899, 0.15386225457263999]\n"
     ]
    }
   ],
   "source": [
    "#Using difference of means equ\n",
    "DiffMean = WhiteMean - RedMean\n",
    "zadd = za * np.sqrt((((stdW)**2)/4898)+(((stdR)**2)/1599))\n",
    "CIMin = DiffMean - zadd\n",
    "CIMax = DiffMean + zadd\n",
    "DiffArray = [CIMin, CIMax]\n",
    "print(\"95% Confidence Interval for the difference of means\")\n",
    "print(DiffArray)"
   ]
  },
  {
   "cell_type": "markdown",
   "metadata": {},
   "source": [
    "**Part D**: Interpret the confidence interval you computed in **Part C** in one or two sentences.  Can you say that it's likely that there is a difference in mean alcohol content between red and white wine?  "
   ]
  },
  {
   "cell_type": "markdown",
   "metadata": {
    "collapsed": true
   },
   "source": [
    "As the confidence interval for the difference between the means of alcohol content of red and white wine doesn't contain 0 there is a statistically significant difference between the alcohol content of red and white wines that is appreciable even though the mean values are not very different from one another."
   ]
  },
  {
   "cell_type": "markdown",
   "metadata": {},
   "source": [
    "### [15 points] Problem 2: Election Polling\n",
    "***\n",
    "\n",
    "On the eve of an important senate seat election, a pollster polls a simple random sample of the population and asks which candidate they plan to vote for on the following day. In particular, the pollster asks if the respondents plan to vote for Candidate A, Candidate B, or some other candidate.  The results of the poll can be found in the following table: \n",
    "\n",
    "\\begin{array}{ccc}\n",
    "\\hline \n",
    "\\textrm{Candidate A} & \\textrm{Candidate B} & \\textrm{Other} \\\\\n",
    "\\hline \n",
    "1204 & 1099 & 205  \\\\\n",
    "\\hline \n",
    "\\end{array}\n",
    "\n",
    "**Part A**: Poll results are typically reported as a predicted **percentage** of the electorate plus or minus a margin of error, i.e. $\\texttt{percentage} \\pm \\texttt{margin}$.  Express the poll results for Candidates A and B in the specified format at the 95% confidence level. "
   ]
  },
  {
   "cell_type": "code",
   "execution_count": 38,
   "metadata": {
    "collapsed": true
   },
   "outputs": [],
   "source": [
    "AVotes = 1204\n",
    "BVotes = 1099\n",
    "OVotes = 205\n",
    "\n",
    "TVotes = AVotes+BVotes+OVotes\n",
    "\n",
    "APercent = ((AVotes/TVotes)*100)\n",
    "BPercent = ((BVotes/TVotes)*100)\n",
    "\n",
    "APhat = AVotes/TVotes\n",
    "BPhat = BVotes/TVotes\n",
    "#print(APercent)\n",
    "#print(BPercent)\n",
    "alpha = 0.05\n",
    "za = stats.norm.ppf(1-alpha/2)\n",
    "AMar = za * np.sqrt((APhat*(1-APhat))/TVotes) \n",
    "#print(AMar)\n",
    "BMar = za * np.sqrt((BPhat*(1-BPhat))/TVotes)  \n",
    "#print(BMar)\n",
    "#CILA = APercent - AMarL\n",
    "#CIUA = APercent + AMarU\n",
    "#CIAarray = [CILA, CIUA]\n",
    "#print(CIAarray)\n",
    "#CILB = BPercent - BMarL\n",
    "#CIUB = BPercent + BMarU\n",
    "#CIBarray = [CILB, CIUB]\n",
    "#print(CIBarray)"
   ]
  },
  {
   "cell_type": "markdown",
   "metadata": {},
   "source": [
    "The percentage of votes for candidate A is equal to $48.00638 \\pm 0.01955 $ %.\n",
    "\n",
    "The percentage of votes for candidate B is equal to $43.81978 \\pm 0.01942$ %."
   ]
  },
  {
   "cell_type": "markdown",
   "metadata": {},
   "source": [
    "**Part B**: Express the poll results as 95% confidence intervals.  Based on these results, would it be responsible for a newspaper to definitely call the election for a particular candidate? Clearly justify your response. "
   ]
  },
  {
   "cell_type": "code",
   "execution_count": 39,
   "metadata": {},
   "outputs": [
    {
     "name": "stdout",
     "output_type": "stream",
     "text": [
      "The 95% confidence interval for candidate A's poll results is \n",
      "[0.46051100152969815, 0.4996165901768409]\n",
      "The 95% confidence interval for candidate B's poll results is \n",
      "[0.41877947031164775, 0.45761606397862342]\n",
      "The 95% confidence interval for the Other candidates poll results is \n",
      "[0.071016316289786774, 0.09246055771340303]\n"
     ]
    }
   ],
   "source": [
    "APhat = AVotes/TVotes\n",
    "BPhat = BVotes/TVotes\n",
    "OPhat = OVotes/TVotes\n",
    "\n",
    "alpha = 0.05\n",
    "za = stats.norm.ppf(1-alpha/2)\n",
    "AMar = za * np.sqrt((APhat*(1-APhat))/TVotes) \n",
    "BMar = za * np.sqrt((BPhat*(1-BPhat))/TVotes)  \n",
    "OMar = za * np.sqrt((OPhat*(1-OPhat))/TVotes)\n",
    "CILA = APhat - AMar\n",
    "CIUA = APhat + AMar\n",
    "CIAarray = [CILA, CIUA]\n",
    "print(\"The 95% confidence interval for candidate A's poll results is \")\n",
    "print(CIAarray)\n",
    "CILB = BPhat - BMar\n",
    "CIUB = BPhat + BMar\n",
    "CIBarray = [CILB, CIUB]\n",
    "print(\"The 95% confidence interval for candidate B's poll results is \")\n",
    "print(CIBarray)\n",
    "CIPOL = OPhat - OMar \n",
    "CIPOU = OPhat + OMar\n",
    "CIOarray = [CIPOL, CIPOU]\n",
    "print(\"The 95% confidence interval for the Other candidates poll results is \")\n",
    "print(CIOarray)"
   ]
  },
  {
   "cell_type": "markdown",
   "metadata": {},
   "source": [
    "Based on the above results of the poll Candidate A would win without any question and the newspaper could definitivley call the election. Candidate A has a confidence interval that doesn't ever intersect with Candidate B or the other Candidates and has the highest values within their CI so they have more votes than any other individual candidate."
   ]
  },
  {
   "cell_type": "markdown",
   "metadata": {},
   "source": [
    "**Part C**: In the run-up to the next election, the pollster is designing a poll of a city council race between two relatively unknown candidates.  Without having any prior data, how many respondents does the pollster need responses from to guarantee that she will get at most a 2% margin of error at the 95% confidence level? Be sure to **clearly** justify your reasoning.  \n",
    "\n",
    "**Hint**: Recall that when computing a confidence interval for proportion we use the actual sample proportion to approximate the variance.  How can you get a worst-case scenario estimate of the variance when the sample proportion is not known _a priori_? \n"
   ]
  },
  {
   "cell_type": "markdown",
   "metadata": {},
   "source": [
    "Using a derivation of the equation to calculate the margin of error\n",
    "\n",
    "za = The Z-value for the distribution\n",
    "\n",
    "$ \\hat{p} $ = The proportion of voters.\n",
    "\n",
    "n = the number of voters to get the margin of error.\n",
    "\n",
    "Margin-of-error =  za * $ sqrt(\\hat{p}(1-\\hat{p})/n) $"
   ]
  },
  {
   "cell_type": "code",
   "execution_count": 40,
   "metadata": {},
   "outputs": [
    {
     "name": "stdout",
     "output_type": "stream",
     "text": [
      "2400.91176293\n"
     ]
    }
   ],
   "source": [
    "alpha = 0.05\n",
    "wcp = 0.5 #in the worst case there would be a tie so the proportion is 0.5\n",
    "za = stats.norm.ppf(1-alpha/2)\n",
    "margin = .02\n",
    "\n",
    "# Equation to calculate the number of people\n",
    "n = ((za**2)*wcp*(1-wcp))/(margin**2)\n",
    "print(n)"
   ]
  },
  {
   "cell_type": "markdown",
   "metadata": {},
   "source": [
    "The worst case of an election in which both candidates don't stand out is a tie between both of them, meaning each would have the same number of votes. In order to calculate the minimum number of responses we need to modify the equation for the Margin of error to calculate the minimum number of samples which in this case is 2401 as you can't have .9 of a person."
   ]
  },
  {
   "cell_type": "markdown",
   "metadata": {},
   "source": [
    "### [15 points] Problem 3 - Have Opinions on Marijuana Legalization Changed? \n",
    "***\n",
    "\n",
    "The General Social Survey (GSS) has been collecting demographic, behavioral, and attitudinal information since 1972 to monitor changes within the US and to compare the US to other nations. Support for the legalization of marijuana in the US is shown for 2010 and in 2016 in the following table:\n",
    "\n",
    "\n",
    "\\begin{array}{cccc}\n",
    "\\hline\n",
    "\\textrm{Year} & \\textrm{Favor} & \\textrm{Oppose} & \\textrm{Total} \\\\ \n",
    "\\hline\n",
    "\\textrm{2010} & \\textrm{603} & \\textrm{656} & \\textrm{1259} \\\\\n",
    "\\textrm{2016} & \\textrm{1126} & \\textrm{717} & \\textrm{1843} \\\\\n",
    "\\hline\n",
    "\\end{array}\n",
    "\n",
    "\n",
    "**Part A**: Find a 95% confidence interval for the change in the proportion supporting marijuana legalization from 2010 to 2016. Use Python for all computations and show your work. "
   ]
  },
  {
   "cell_type": "code",
   "execution_count": 41,
   "metadata": {},
   "outputs": [
    {
     "name": "stdout",
     "output_type": "stream",
     "text": [
      "[0.09655644289791579, 0.16746124074027999]\n"
     ]
    }
   ],
   "source": [
    "#kinda like diff of means \n",
    "#p-hat = p_infavor / p_total\n",
    "PFO = 603 / 1259 # Proportion in favor old (2010)\n",
    "PFN = 1126 / 1843 # Proportion in favor new (2016)\n",
    "alpha = 0.05\n",
    "NN = 1843 #Total number new\n",
    "NO = 1259 # Total numer old\n",
    "za = stats.norm.ppf(1-alpha/2)\n",
    "\n",
    "DiffPMean = PFN - PFO \n",
    "Mzadd = za * np.sqrt(((PFN*(1-PFN))/NN)+((PFO*(1-PFO))/NO))\n",
    "\n",
    "\n",
    "MCIMin = DiffPMean - Mzadd\n",
    "MCIMax = DiffPMean + Mzadd\n",
    "MCIArray = [MCIMin, MCIMax]\n",
    "print(MCIArray)"
   ]
  },
  {
   "cell_type": "markdown",
   "metadata": {},
   "source": [
    "**Part B**: Is it likely that the proportion supporting marijuana legalization changed between 2010 and 2016? Justify your conclusion using the ideas of statistical inference and your results from **Part A**. "
   ]
  },
  {
   "cell_type": "markdown",
   "metadata": {
    "collapsed": true
   },
   "source": [
    "The 95% CI for those in favor of marijuana leagilization from 2010 to 2016 is positive from the lower bound to the upper bound. This signifies that there was a statistically significant increase of those who supported it's legalization which is appreciable because 0 is not within the 95% CI."
   ]
  },
  {
   "cell_type": "markdown",
   "metadata": {},
   "source": [
    "### [20 points] Problem 4 - Exploring Confidence Intervals \n",
    "***\n",
    "\n",
    "The so-called [Chi-squared](https://en.wikipedia.org/wiki/Chi-squared_distribution) distribution is important in several statistical tests.  It's also fairly asymmetric, and thus interesting for investigating confidence intervals.  It is implemented in scipy.stats as [chi2](https://docs.scipy.org/doc/scipy-0.19.1/reference/generated/scipy.stats.chi2.html). \n"
   ]
  },
  {
   "cell_type": "code",
   "execution_count": 42,
   "metadata": {
    "collapsed": true
   },
   "outputs": [],
   "source": [
    "from scipy.stats import chi2"
   ]
  },
  {
   "cell_type": "markdown",
   "metadata": {},
   "source": [
    "**Part A**: Complete the following code cell to plot a histogram of realizations from the Chi-squared distribution with parameter $K=3$. "
   ]
  },
  {
   "cell_type": "code",
   "execution_count": 43,
   "metadata": {
    "scrolled": false
   },
   "outputs": [
    {
     "data": {
      "text/plain": [
       "(array([ 362.,  499.,  548.,  570.,  616.,  601.,  573.,  519.,  516.,\n",
       "         465.,  405.,  428.,  356.,  326.,  289.,  306.,  269.,  213.,\n",
       "         210.,  200.,  187.,  171.,  127.,  115.,  136.,  107.,   98.,\n",
       "          66.,   76.,   64.,   67.,   52.,   53.,   40.,   41.,   31.,\n",
       "          24.,   29.,   18.,   27.,   25.,   29.,   14.,   13.,   13.,\n",
       "          11.,   14.,    9.,   11.,   11.,    7.,    7.,    5.,    4.,\n",
       "           4.,    0.,    1.,    3.,    1.,    4.,    1.,    0.,    1.,\n",
       "           2.,    0.,    2.,    0.,    0.,    1.,    0.,    1.,    1.,\n",
       "           0.,    0.,    1.,    0.,    1.,    0.,    0.,    1.,    0.,\n",
       "           0.,    0.,    0.,    0.,    0.,    0.,    1.,    0.,    0.,\n",
       "           0.,    0.,    0.,    0.,    0.,    0.,    0.,    0.,    0.,    1.]),\n",
       " array([  7.93003706e-03,   2.54896207e-01,   5.01862376e-01,\n",
       "          7.48828546e-01,   9.95794716e-01,   1.24276089e+00,\n",
       "          1.48972706e+00,   1.73669323e+00,   1.98365939e+00,\n",
       "          2.23062556e+00,   2.47759173e+00,   2.72455790e+00,\n",
       "          2.97152407e+00,   3.21849024e+00,   3.46545641e+00,\n",
       "          3.71242258e+00,   3.95938875e+00,   4.20635492e+00,\n",
       "          4.45332109e+00,   4.70028726e+00,   4.94725343e+00,\n",
       "          5.19421960e+00,   5.44118577e+00,   5.68815194e+00,\n",
       "          5.93511811e+00,   6.18208428e+00,   6.42905045e+00,\n",
       "          6.67601662e+00,   6.92298279e+00,   7.16994896e+00,\n",
       "          7.41691513e+00,   7.66388130e+00,   7.91084747e+00,\n",
       "          8.15781364e+00,   8.40477981e+00,   8.65174598e+00,\n",
       "          8.89871215e+00,   9.14567832e+00,   9.39264449e+00,\n",
       "          9.63961066e+00,   9.88657683e+00,   1.01335430e+01,\n",
       "          1.03805092e+01,   1.06274753e+01,   1.08744415e+01,\n",
       "          1.11214077e+01,   1.13683738e+01,   1.16153400e+01,\n",
       "          1.18623062e+01,   1.21092724e+01,   1.23562385e+01,\n",
       "          1.26032047e+01,   1.28501709e+01,   1.30971370e+01,\n",
       "          1.33441032e+01,   1.35910694e+01,   1.38380355e+01,\n",
       "          1.40850017e+01,   1.43319679e+01,   1.45789341e+01,\n",
       "          1.48259002e+01,   1.50728664e+01,   1.53198326e+01,\n",
       "          1.55667987e+01,   1.58137649e+01,   1.60607311e+01,\n",
       "          1.63076972e+01,   1.65546634e+01,   1.68016296e+01,\n",
       "          1.70485957e+01,   1.72955619e+01,   1.75425281e+01,\n",
       "          1.77894943e+01,   1.80364604e+01,   1.82834266e+01,\n",
       "          1.85303928e+01,   1.87773589e+01,   1.90243251e+01,\n",
       "          1.92712913e+01,   1.95182574e+01,   1.97652236e+01,\n",
       "          2.00121898e+01,   2.02591560e+01,   2.05061221e+01,\n",
       "          2.07530883e+01,   2.10000545e+01,   2.12470206e+01,\n",
       "          2.14939868e+01,   2.17409530e+01,   2.19879191e+01,\n",
       "          2.22348853e+01,   2.24818515e+01,   2.27288177e+01,\n",
       "          2.29757838e+01,   2.32227500e+01,   2.34697162e+01,\n",
       "          2.37166823e+01,   2.39636485e+01,   2.42106147e+01,\n",
       "          2.44575808e+01,   2.47045470e+01]),\n",
       " <a list of 100 Patch objects>)"
      ]
     },
     "execution_count": 43,
     "metadata": {},
     "output_type": "execute_result"
    },
    {
     "data": {
      "image/png": "[encoded data removed]",
      "text/plain": [
       "<matplotlib.figure.Figure at 0x7f7ac0e71b70>"
      ]
     },
     "metadata": {},
     "output_type": "display_data"
    }
   ],
   "source": [
    "k = 3 \n",
    "x = chi2.rvs(k, size=10000)\n",
    "fig, ax = plt.subplots(nrows=1, ncols=1, figsize=(12,6))\n",
    "ax.grid(alpha = 0.25)\n",
    "ax.set_axisbelow(True)\n",
    "ax.set_ylabel(\"Realizations\", fontsize = 20)\n",
    "# make a histogram\n",
    "ax.hist(x, bins = 100, facecolor=\"steelblue\", edgecolor=\"white\" )\n"
   ]
  },
  {
   "cell_type": "markdown",
   "metadata": {},
   "source": [
    "**Part B**: Look up the mean and variance of the Chi-squared distribution with parameter $k=3$ and report them here. "
   ]
  },
  {
   "cell_type": "markdown",
   "metadata": {
    "collapsed": true
   },
   "source": [
    "The mean is k which is 3 in this case and the variance is 2k which is 6 in this case"
   ]
  },
  {
   "cell_type": "markdown",
   "metadata": {},
   "source": [
    "**Part C**: In this part you'll write a function to investigate the _coverage properties_ of a confidence interval for the mean of the Chi-squared distribution. Complete the following function to randomly sample $m=500$ sample means with sample size $n=100$ for the Chi-squared distribution with parameter $k=3$.  For each random sample, compute the 95% confidence interval for the mean.  Your function should do two things: \n",
    "\n",
    "1. Report the proportion of confidence intervals that successfully cover the true mean of the distribution \n",
    "2. Make a plot of 50 randomly selected confidence intervals. Overlay the intervals on the line $y=\\mu$ where $\\mu$ is the true mean of the distribution. Color confidence intervals black if they cover the true mean, and red if they don't.  "
   ]
  },
  {
   "cell_type": "code",
   "execution_count": 44,
   "metadata": {
    "collapsed": true,
    "scrolled": false
   },
   "outputs": [],
   "source": [
    "def confidence_intervals(m=500, n=100):\n",
    "    # draw 100 samples from chi2 and take the mean and create a for loop for size 500 non-normal data with a known sigma\n",
    "    # m is the numberof chi2 intervals n is the numbere of trials\n",
    "    # 1. Get 100 draws from the chi2 distribution\n",
    "    # 2. Get the mean of the dataset. \n",
    "    # 3. Recipie for a CI za \n",
    "    # 4. see if 3 is within the bounds of the ci \n",
    "    CSI = [] \n",
    "    k = 3 \n",
    "    PropS = 0\n",
    "    PropT = 0\n",
    "    for i in range (m):\n",
    "       # k = 3\n",
    "        X = chi2.rvs(k, size=n)\n",
    "        #print(X)\n",
    "        SMean = np.mean(X)\n",
    "        #print(SMean)\n",
    "        alpha = 0.05\n",
    "        za = stats.norm.ppf(1-alpha/2)\n",
    "        \n",
    "        stdchi = np.std(X)\n",
    "        sqrtn = np.sqrt(n)\n",
    "        SeChi = stdchi / sqrtn\n",
    "        CIL = SMean - za * SeChi\n",
    "        CIU = SMean + za * SeChi\n",
    "        CIArray = [CIL, CIU]\n",
    "        \n",
    "        if CIL <= k <= CIU:\n",
    "            PropS += 1\n",
    "        CSI.append(CIArray)\n",
    "        #print(CIArray)\n",
    "        # Now compute the CI for chi\n",
    "    FChoice = np.random.choice(m, size = 50, replace = False)\n",
    "    #print(PropS)\n",
    "    PropT = PropS / m\n",
    "    print(\"The proportion of confidence intervals that successfully cover the true mean of the distribution is: {:.3f}\".format(PropT))\n",
    "    #print(PropT)\n",
    "    for i, index in enumerate(FChoice):\n",
    "        CI = CSI[index]\n",
    "        #print(CI)\n",
    "        color = \"red\"\n",
    "        if CI[0] <= k <= CI[1]: \n",
    "            color = \"black\"\n",
    "        plt.plot([i, i], [CI[0], CI[1]], color = color)\n",
    "        plt.plot([0,50], [k, k], color = \"steelblue\")\n",
    "            "
   ]
  },
  {
   "cell_type": "code",
   "execution_count": 45,
   "metadata": {},
   "outputs": [
    {
     "name": "stdout",
     "output_type": "stream",
     "text": [
      "The proportion of confidence intervals that successfully cover the true mean of the distribution is: 0.942\n"
     ]
    },
    {
     "data": {
      "image/png": "[encoded data removed]",
      "text/plain": [
       "<matplotlib.figure.Figure at 0x7f7ac0eb19e8>"
      ]
     },
     "metadata": {},
     "output_type": "display_data"
    }
   ],
   "source": [
    "confidence_intervals(500, 100)"
   ]
  },
  {
   "cell_type": "markdown",
   "metadata": {},
   "source": [
    "**Part D**: Does the proportion of confidence intervals that cover the true mean of the distribution agree with the theory described in class?  Justify your conclusion. "
   ]
  },
  {
   "cell_type": "markdown",
   "metadata": {},
   "source": [
    "The proportion of confidence intervals that cover the true mean of the distribution agree with the theory described in class because in utilizing a 95% confidence interval for 50 samples one would expect about 2 or 3 derivations of a CI being outside of the true mean."
   ]
  },
  {
   "cell_type": "markdown",
   "metadata": {},
   "source": [
    "### [15 points] Problem 5 - Autograding Simulation Homework \n",
    "***\n",
    "\n",
    "Suppose that you are the grader for an Introduction to Data Science course and your boss has asked you to write an autograder for a homework problem on simulation.  Specifically, students have been asked to write a simulation to estimate the expected number of rolls it will take until doubles are rolled with a pair of fair, six-sided dice (i.e. until both dice show the same value).  The students have been asked to structure their code so that it runs many trials of the experiment and returns the sample mean of the trials, as well as an array containing the result of each individual trial. \n",
    "\n",
    "The solutions submitted by three students in the course are given below. "
   ]
  },
  {
   "cell_type": "code",
   "execution_count": 46,
   "metadata": {
    "collapsed": true
   },
   "outputs": [],
   "source": [
    "def student1(num_trials=5000):\n",
    "    t = np.zeros(num_trials)\n",
    "    for ii in range(num_trials):\n",
    "        ctr = 0\n",
    "        while np.random.choice([1,2,3,4,5,6]) != np.random.choice([1,2,3,4,5,6]):\n",
    "            ctr += 1 \n",
    "        t[ii] = ctr \n",
    "    return np.mean(t), t\n",
    "\n",
    "def student2(num_trials=5000):\n",
    "    t = np.zeros(num_trials)\n",
    "    for ii in range(num_trials):\n",
    "        ctr = 1\n",
    "        while int(6*np.random.uniform(0,1)+1) != int(6*np.random.uniform(0,1)+1):\n",
    "            ctr += 1 \n",
    "        t[ii] = ctr \n",
    "    return np.mean(t), t\n",
    "\n",
    "def student3(num_trials=5000):\n",
    "    t = np.random.exponential(6, size=num_trials)\n",
    "    return np.mean(t), t "
   ]
  },
  {
   "cell_type": "markdown",
   "metadata": {},
   "source": [
    "Now, you landed this job at the last minute, and your probability theory is a little rusty.  Luckily, your boss has given you his solution to the problem which is shown below: "
   ]
  },
  {
   "cell_type": "code",
   "execution_count": 47,
   "metadata": {
    "collapsed": true
   },
   "outputs": [],
   "source": [
    "def prof(num_trials=5000):\n",
    "    t = np.random.geometric(1/6, size=num_trials)\n",
    "    return np.mean(t), t"
   ]
  },
  {
   "cell_type": "code",
   "execution_count": 48,
   "metadata": {
    "collapsed": true
   },
   "outputs": [],
   "source": [
    "#student3(5000)"
   ]
  },
  {
   "cell_type": "code",
   "execution_count": 49,
   "metadata": {
    "collapsed": true
   },
   "outputs": [],
   "source": [
    "#student2(5000)"
   ]
  },
  {
   "cell_type": "code",
   "execution_count": 50,
   "metadata": {
    "collapsed": true
   },
   "outputs": [],
   "source": [
    "#student1(5000)"
   ]
  },
  {
   "cell_type": "code",
   "execution_count": 51,
   "metadata": {
    "collapsed": true
   },
   "outputs": [],
   "source": [
    "#prof(5000)"
   ]
  },
  {
   "cell_type": "markdown",
   "metadata": {},
   "source": [
    "Knowing that your probability theory is rusty, your boss has suggested that your autograder be constructed solely based on confidence intervals to compare the students' estimates of the expected value of the experiment to his own estimate.  Finally, although there are only examples from three students above, there are actually more than 100 students in the course, so tailoring your tests to features of individual students' code is out of the question. \n",
    "\n",
    "**Part A**: Complete the function autograder below, which takes in the realizations of the trials from your professor's code and one of the students' codes, as well as the $\\alpha$ for a $100(1-\\alpha)\\%$ confidence interval and returns a string indicating whether the student passed or failed the test. **Clearly** indicate what statistical test(s) your autograder is using and why this is a good idea.  Then demonstrate the use of your autograder to grade the three student solutions above. "
   ]
  },
  {
   "cell_type": "code",
   "execution_count": 52,
   "metadata": {
    "collapsed": true
   },
   "outputs": [],
   "source": [
    "def autograder(pf, st, alpha=0.05):\n",
    "    # CI = Student-Mean - Prof-Mean +- za sqrt((std^2)/m{student} + \"Same for Prof\") \n",
    "    # if the CI contains 0 it passes, else it fails\n",
    "    ProfMean, ProfArr = pf()\n",
    "    stdpf = np.std(ProfArr)\n",
    "    StudentMean, StudentArr = st()\n",
    "    stdst = np.std(StudentArr)\n",
    "    numTrialsP = ProfArr.size\n",
    "    numTrialsS = StudentArr.size\n",
    "    za = stats.norm.ppf(1-alpha/2)\n",
    "    \n",
    "    AutoMean = ProfMean - StudentMean\n",
    "    zadd = za * np.sqrt((((stdst)**2)/numTrialsS)+(((stdpf)**2)/numTrialsP))\n",
    "    CIMin = AutoMean - zadd\n",
    "    CIMax = AutoMean + zadd\n",
    "    DiffArray = [CIMin, CIMax]\n",
    "    print(DiffArray)\n",
    "    if not((CIMin > 0) and (0 < CIMax)):\n",
    "        return \"Passed\"\n",
    "    else:\n",
    "        return \"Failed\""
   ]
  },
  {
   "cell_type": "markdown",
   "metadata": {},
   "source": [
    "I am utilizing the difference of means test to calukate the CI of the students code minus the professors code. If 0 is within the confidence interval there is no statistically significant difference between the two solutions so the student has the correct answer. "
   ]
  },
  {
   "cell_type": "code",
   "execution_count": 53,
   "metadata": {},
   "outputs": [
    {
     "name": "stdout",
     "output_type": "stream",
     "text": [
      "[0.66195817895214071, 1.0932418210478596]\n"
     ]
    },
    {
     "data": {
      "text/plain": [
       "'Failed'"
      ]
     },
     "execution_count": 53,
     "metadata": {},
     "output_type": "execute_result"
    }
   ],
   "source": [
    "autograder(prof, student1, 0.05)"
   ]
  },
  {
   "cell_type": "code",
   "execution_count": 54,
   "metadata": {},
   "outputs": [
    {
     "name": "stdout",
     "output_type": "stream",
     "text": [
      "[-0.32568514691949613, 0.10328514691949575]\n"
     ]
    },
    {
     "data": {
      "text/plain": [
       "'Passed'"
      ]
     },
     "execution_count": 54,
     "metadata": {},
     "output_type": "execute_result"
    }
   ],
   "source": [
    "autograder(prof, student2, 0.05)"
   ]
  },
  {
   "cell_type": "code",
   "execution_count": 55,
   "metadata": {},
   "outputs": [
    {
     "name": "stdout",
     "output_type": "stream",
     "text": [
      "[-0.11941666620992042, 0.3269846359562899]\n"
     ]
    },
    {
     "data": {
      "text/plain": [
       "'Passed'"
      ]
     },
     "execution_count": 55,
     "metadata": {},
     "output_type": "execute_result"
    }
   ],
   "source": [
    "autograder(prof, student3, 0.05)"
   ]
  },
  {
   "cell_type": "markdown",
   "metadata": {},
   "source": [
    "**[Extra Credit] Part B**: You realize that tests based solely on the estimate of the mean are not robust.  Come up with a better autograder that, again using tests based on confidence intervals, compares the students' solutions to the professor's solutions on statistical properties beyond just the mean. Again, **clearly** motivate the features of your autograder based on theory developed in class.    "
   ]
  },
  {
   "cell_type": "code",
   "execution_count": 24,
   "metadata": {
    "collapsed": true
   },
   "outputs": [],
   "source": [
    "# # do the diff in variance again like in problem 6\n",
    "# # The true var has to fall in the the range of the sample var\n",
    "# def AutoGRbst(pf, st, alpha = 0.05):\n",
    "#     alpha = 0.05\n",
    "#     ProfMean, ProfArr = pf()\n",
    "#     StudentMean, StudentArr = st()\n",
    "#     Studentstd = np.std(StudentArr)\n",
    "    \n",
    "#     chiProftats.chi2.ppf((1-(alpha/2)), (numtrialsS-1))\n",
    "#     chib = stats.chi2.ppf(alpha/2, (numtrialsP-1))\n",
    "# # varS = np.var()\n",
    "# # varP = np.var()\n",
    "# # #Dsqrt = np.sqrt(10)\n",
    "# # #DSe = Dstd / Dsqrt\n",
    "# # #print(Dsqrt)\n",
    "# # #print(DSe)\n",
    "# # CIDmin = ((n-1) * Dvar) / chib\n",
    "# # sqrtCIL = np.sqrt(CIDmin)\n",
    "# # CIDmax = ((n-1) * Dvar) / chia\n",
    "# # sqrtCIU = np.sqrt(CIDmax)\n",
    "# # CIDArray = [sqrtCIU, sqrtCIL]\n",
    "# # #CIDiffmin = ((n-1) * Dstd) / chib\n",
    "# # #CIDiffmax = ((n-1) * Dstd) / chia\n",
    "# # #CIDiffArray = [CIDiffmin, CIDiffmax]\n",
    "# # #print(\"Confidence interval for the difference in standard deviations.\")\n",
    "# # #print(CIDiffArray)"
   ]
  },
  {
   "cell_type": "markdown",
   "metadata": {
    "collapsed": true
   },
   "source": [
    "### [15 points] Problem 6 - Freethrows\n",
    "***\n",
    "\n",
    "Keep your skills sharp by answering these straightforward questions."
   ]
  },
  {
   "cell_type": "markdown",
   "metadata": {},
   "source": [
    "**Part A**: <font color='green'>You are driving through the paint toward the basket when Steph Curry fouls you. You step to the line to sink this freethrow shot, which is delivered in the form of a CSCI3022 problem:</font>\n",
    "\n",
    "You have a shuffled deck of cards. You flip over the cards one by one, without replacing them in the deck. You count how many cards you'll have to flip until you flip over the third Jack.  You repeat this many times. Simulate this process. Plot a histogram with binsize=1 of the outcomes. Compute the mean, median, and mode for this dataset, indicate them on the plot too. Look up how to do a legend in MatPlotLib, and label your histogram, mean, median.\n",
    "***"
   ]
  },
  {
   "cell_type": "code",
   "execution_count": 25,
   "metadata": {
    "collapsed": true
   },
   "outputs": [],
   "source": [
    "# We need a counter to incrememt every time we hit a jack\n",
    "#while Jackcounter != 3\n",
    "    #Pick a card randomly from the array\n",
    "    #check if the card is equal to a jack of any of the 4 suits\n",
    "    #if yes, increase Jackcounter and remove the card from the array also increase cardcounter\n",
    "    #if no remove the card from the array and increase cardcounter"
   ]
  },
  {
   "cell_type": "code",
   "execution_count": 26,
   "metadata": {},
   "outputs": [
    {
     "name": "stdout",
     "output_type": "stream",
     "text": [
      "Mean\n",
      "31.8476\n",
      "Mode\n",
      "34\n",
      "Median\n",
      "33.0\n"
     ]
    },
    {
     "data": {
      "image/png": "[encoded data removed]",
      "text/plain": [
       "<matplotlib.figure.Figure at 0x7f7ac0d74470>"
      ]
     },
     "metadata": {},
     "output_type": "display_data"
    }
   ],
   "source": [
    "#DONE\n",
    "from random import shuffle\n",
    "def ThreeJackTrial():\n",
    "    deck = [1, 2, 3, 4, 5, 6, 7, 8, 9, 10, 11, 12, 13]*4 #Where 1 is an Ace, 11 is a Jack, 12 is a Queen and is a King\n",
    "    shuffle(deck)\n",
    "    JackCounter = 0\n",
    "    CardCounter = 0 # To count the # of cards you go through to get 3 Jacks\n",
    "    while JackCounter != 3: # iterate through the deck until you find 3 jacks\n",
    "        CurrentCard = deck.pop()\n",
    "    #   print(CurrentCard)\n",
    "        if(CurrentCard == 11):\n",
    "            JackCounter += 1\n",
    "            CardCounter+= 1\n",
    "        else:\n",
    "            CardCounter+= 1\n",
    "    return CardCounter\n",
    "trial_array = []\n",
    "numtrials = 10000\n",
    "for ii in range(numtrials):\n",
    "    trial_array.append(ThreeJackTrial())\n",
    "#print(trial_array)\n",
    "#Mean\n",
    "MeanDraw = np.mean(trial_array)\n",
    "print(\"Mean\")\n",
    "print(MeanDraw)\n",
    "#Mode\n",
    "DrawMode = max(set(trial_array), key = trial_array.count)\n",
    "print(\"Mode\")\n",
    "print(DrawMode)\n",
    "#Median\n",
    "MedianDraw = np.median(trial_array)\n",
    "print(\"Median\")\n",
    "print(MedianDraw)\n",
    "#Diagram\n",
    "fig, ax = plt.subplots(nrows = 1, ncols = 1, figsize = (16, 6))\n",
    "ax.grid(True, alpha = 0.5)\n",
    "ax.set_xlabel(\"# of Cards\", fontsize = 16)\n",
    "ax.set_ylabel(\"Frequency\", fontsize = 16)\n",
    "ax.set_title(\"Draws to get 3 Jacks\", fontsize = 20)\n",
    "plt.axvline(x = MeanDraw, color = \"Red\", label = \"Mean\")\n",
    "plt.axvline(x = MedianDraw, color = \"Orange\", label = \"Median\")\n",
    "plt.axvline(x = DrawMode, color = \"Purple\", label = \"Mode\")\n",
    "plt.legend()\n",
    "\n",
    "ax.hist(trial_array, bins = 49, facecolor=\"steelblue\", edgecolor=\"white\") \n",
    "plt.show()"
   ]
  },
  {
   "cell_type": "markdown",
   "metadata": {},
   "source": [
    "**Part B**: <font color='green'>You sink your first free throw and immediately get dap from your teammates, Jerry Ferguson and Steve Ferguson. You prepare to take anotter shot, which—and you're not going to believe this—is another CSCI3022 problem:</font>\n",
    "\n",
    "In general, which is wider: a 95% confidence interval or a 99% confidence interval? How would you explain this to your younger sibling, who is not a statistician?\n",
    "***"
   ]
  },
  {
   "cell_type": "markdown",
   "metadata": {},
   "source": [
    "A 99% confidence interval is wider than a 95% confidence interval in general. If I was explaining this to a non-statistician I would say that you can think of tthe confidence interval as a net. If you are fishing would you rather have a net that covers 99% of some River A or a net that covers 95% of the river. Assuming you want to catch the most fish possible you would want the net that covers 99% of the river as you are far more likley to catch more fish than if you only used a net that covered 95% of the river."
   ]
  },
  {
   "cell_type": "markdown",
   "metadata": {},
   "source": [
    "**Part C**: <font color='green'>The crowd is silent. Everything is slow motion. You're literally in the air, releasing what looks to be a perfect shot to tie the match. As you release the ball, a hand appears to block it. It is Kevin Durant. :( \n",
    "\n",
    "Luckily, his fingertips also brush against your arm. That's a foul, and everyone saw it. Back to the line. Back to CSCI3022:</font>\n",
    "\n",
    "Let $X$ be a normally-distributed random variable. You draw from it and get these values, stored in the numpy array **durant**, below. Compute a 95% confidence interval for the standard deviation.\n",
    "***"
   ]
  },
  {
   "cell_type": "code",
   "execution_count": 27,
   "metadata": {},
   "outputs": [
    {
     "name": "stdout",
     "output_type": "stream",
     "text": [
      "Durant confidence interval.\n",
      "[0.074125309028039349, 0.19673886654275355]\n"
     ]
    }
   ],
   "source": [
    "durant = np.array([3.7778,3.9459,3.8248,4.1111,4.0180,4.0898,4.0380,3.9273,3.9614,3.8387])\n",
    "#Chi^2 solve for STD insted of Var\n",
    "#DMean = np.mean(durant)\n",
    "#print(DMean)\n",
    "alpha = 0.05\n",
    "n = len(durant)\n",
    "chia = stats.chi2.ppf((1-(alpha/2)), (n-1))\n",
    "chib = stats.chi2.ppf(alpha/2, (n-1))\n",
    "Dvar = durant.var()\n",
    "#print(Dstd)\n",
    "#print(Dstd)\n",
    "\n",
    "#Dsqrt = np.sqrt(10)\n",
    "#DSe = Dstd / Dsqrt\n",
    "#print(Dsqrt)\n",
    "#print(DSe)\n",
    "CIDmin = ((n-1) * Dvar) / chib\n",
    "sqrtCIL = np.sqrt(CIDmin)\n",
    "CIDmax = ((n-1) * Dvar) / chia\n",
    "sqrtCIU = np.sqrt(CIDmax)\n",
    "CIDArray = [sqrtCIU, sqrtCIL]\n",
    "print(\"Durant confidence interval.\")\n",
    "print(CIDArray)"
   ]
  },
  {
   "cell_type": "markdown",
   "metadata": {},
   "source": [
    "**Part D**: <font color='green'>You are watching tape footage at halftime with your personal trainer, Maureen Ferguson. You gotta focus up if you're going to match Klay Thompson's speed in the second half. You take a sip of Gatorade and Dr. Ferguson suggests that you do the following CSCI3022 problem:</font>\n",
    "\n",
    "You collect 53 samples of hair from baby river otters and find that they are, on average, 22.6 mm long, with a standard devaition of 15.2mm. \n",
    "\n",
    "Then you collect 41 samples of hair from baby sea otters and find that they are, on average, 26.4 mm long, with a standard deviation of 11.4 mm. \n",
    "\n",
    "Is there statistical evidence at the 0.05 significance level that the true mean of baby sea otter hair length exceeds the true mean of baby river otter hair length by more than 3 mm?  Use a test of your choice.\n",
    "\n",
    "***"
   ]
  },
  {
   "cell_type": "code",
   "execution_count": 28,
   "metadata": {},
   "outputs": [
    {
     "name": "stdout",
     "output_type": "stream",
     "text": [
      "[-1.5779502381898913, 9.1779502381898865]\n"
     ]
    }
   ],
   "source": [
    "ROSamples = 53\n",
    "ROMean = 22.6\n",
    "ROSTD = 15.2\n",
    "SOSamples = 41\n",
    "SOMean = 26.4\n",
    "SOSTD = 11.4\n",
    "alpha = 0.05\n",
    "za = stats.norm.ppf(1-alpha/2)\n",
    "#print(za)\n",
    "# Using diff in means\n",
    "OtterHMean = SOMean - ROMean #- 3 # 3 is the true mean if H0 is true\n",
    "zadd = za * np.sqrt((((SOSTD)**2)/SOSamples)+(((ROSTD)**2)/ROSamples))\n",
    "OCIMin = OtterHMean - zadd\n",
    "OCIMax = OtterHMean + zadd\n",
    "ODiffArray = [OCIMin, OCIMax]\n",
    "print(ODiffArray)\n",
    "# Status quoue is the difference is less than 3\n",
    "# do we have evidence that mu_y - mu_x > 3\n",
    "# Compute CI for mu_y - mu_x One tailed test though\n",
    "# Try a critical region test for diff in means\n",
    "# Best est for mu_y - mu_x is ybar - xbar\n",
    "# Think CLT because we have hreater than 30 samples from each one\n",
    "# ybar - xbar ~ N(mu_y - mu_x, sigma_y^2 / n + sigma_x^2 / m)\n",
    "# var ybar = sigma_y^2 / n var xbar = sigma_x^2 / m\n",
    "# Look at lecture 15 slides about diff of population means\n",
    "\n"
   ]
  },
  {
   "cell_type": "markdown",
   "metadata": {},
   "source": [
    "There is no statistical evidence to support the idea that the true mean of baby sea otter hair length exceeds the true mean of baby river otter hair length by more than 3 mm as the 95% CI contains 0, which by by the properties of confidence intervals means that there is no statistically significant difference between the hair lengths."
   ]
  },
  {
   "cell_type": "markdown",
   "metadata": {},
   "source": [
    "**Part E**: <font color='green'>\"Draymond Green has it all, in spite of living in the Bay Area,\" you think to yourself. \"But he doesn't have this shot...\" You're all over him, and he's going to have to pass. You can see the irritation in his eyes. Then you realize that it's not irritation, and he's not being distracted by your superb defense. He's being distracted by this CSCI3022 problem:</font>\n",
    "\n",
    "If you're doing quality control for the average strength of carbon fiber that will be used in airplane construction, and your alternative hypothesis is that the strength of the carbon is below tolerance, and therefore unsafe, would you rather have a low Type I error rate or a low Type II error rate? Explain.\n",
    "\n",
    "***"
   ]
  },
  {
   "cell_type": "markdown",
   "metadata": {
    "collapsed": true
   },
   "source": [
    "The Null hypothesis in this case would be that the strength of the carbon fiber isn't below tolerence and is therefore safe. I would rather have a low Type I error as that would mean that the Null hypothesis is rejected but the Null hypothesis is true meaning that we would get rid of carbon fiber that is safe rather than using carbon fiber that is unsafe."
   ]
  }
 ],
 "metadata": {
  "kernelspec": {
   "display_name": "Python 3",
   "language": "python",
   "name": "python3"
  },
  "language_info": {
   "codemirror_mode": {
    "name": "ipython",
    "version": 3
   },
   "file_extension": ".py",
   "mimetype": "text/x-python",
   "name": "python",
   "nbconvert_exporter": "python",
   "pygments_lexer": "ipython3",
   "version": "3.6.3"
  }
 },
 "nbformat": 4,
 "nbformat_minor": 2
}
