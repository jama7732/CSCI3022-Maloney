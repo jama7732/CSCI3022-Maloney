{
 "cells": [
  {
   "cell_type": "markdown",
   "metadata": {},
   "source": [
    "# Homework 6: Hypothesis Testing, P-Hacking, and Simple Linear Regression \n",
    "***\n",
    "\n",
    "**Name**: Jake Maloney\n",
    "\n",
    "***\n",
    "\n",
    "This assignment is due on Moodle by **5pm on Friday April 20th**. Your solutions to theoretical questions should be done in Markdown/MathJax directly below the associated question.  Your solutions to computational questions should include any specified Python code and results as well as written commentary on your conclusions.  Remember that you are encouraged to discuss the problems with your instructors and classmates, but **you must write all code and solutions on your own**.  For a refresher on the course **Collaboration Policy** click [here](https://github.com/dblarremore/csci3022/blob/master/resources/syllabus.md#collaboration-policy).\n",
    "\n",
    "**NOTES**: \n",
    "\n",
    "- Do **NOT** load or use any Python packages that are not available in Anaconda 3.6. \n",
    "- Some problems with code may be autograded.  If we provide a function API **do not** change it.  If we do not provide a function API then you're free to structure your code however you like. \n",
    "- Because you can technically evaluate notebook cells is a non-linear order, it's a good idea to do Cell $\\rightarrow$ Run All as a check before submitting your solutions.  That way if we need to run your code you will know that it will work as expected. \n",
    "- Submit only this Jupyter notebook to Moodle.  Do not compress it using tar, rar, zip, etc. "
   ]
  },
  {
   "cell_type": "code",
   "execution_count": 1,
   "metadata": {
    "collapsed": true,
    "scrolled": true
   },
   "outputs": [],
   "source": [
    "import numpy as np\n",
    "import matplotlib.pylab as plt\n",
    "import pandas as pd\n",
    "from scipy import stats \n",
    "%matplotlib inline"
   ]
  },
  {
   "cell_type": "markdown",
   "metadata": {},
   "source": [
    "### [15 points] Problem 1 - Hypothesis Testing: Find-the-Knowledge-Bug \n",
    "***\n",
    "\n",
    "As part of your job as a seasoned data science consultant, companies often bring you in to supervise their less-experienced data science teams before new product roll-outs.  One one such occasion, you are hired by a medium-sized internet-sales company that is preparing to release a new line of smart-home products.  Prior to their product release the company wants to do a targeted ad campaign to drive traffic to their site on launch day. \n",
    "\n",
    "You are asked to pair-up and do some inference work with a new employee named Stevey McKnowsNoStats. At various points in your day you catch Stevey making the following mistakes.  In each case, clearly explain to Stevey why his testing setup or conclusion is incorrect. "
   ]
  },
  {
   "cell_type": "markdown",
   "metadata": {},
   "source": [
    "**Part A**: Stevey has pulled up some data on the characteristics of customers that visited the company's website over the previous month.  He wants to perform an analysis on the mean age of customers that visit the site.  Let $X$ be the random variable describing the age of a site visitor and suppose that the population mean for $X$ is $\\mu$. In particular, Stevey wants to see if the data suggests that the mean age of their customers is under 30 years old.   He decides to perform the test with a null hypothesis of $H_0: \\bar{x} = 30$. "
   ]
  },
  {
   "cell_type": "markdown",
   "metadata": {
    "collapsed": true
   },
   "source": [
    "In this situation $\\mu$ is always the true value and $\\bar{x}$ is the sample value. When doing a null hypothesis you must always test with the $\\mu$ value. In this case the null hypothesis would be $H_0: \\mu = 30$ not $H_0: \\bar{x} = 30$ as tthat would mean that the true mean is equal to 30 and that is not what you are testing."
   ]
  },
  {
   "cell_type": "markdown",
   "metadata": {},
   "source": [
    "**Part B**: After the wonderful explanation you gave him after the previous debacle, Stevey has seen the error in his ways and decides instead to do his hypothesis test with a null hypothesis of $H_0: \\mu < 30$.  "
   ]
  },
  {
   "cell_type": "markdown",
   "metadata": {
    "collapsed": true
   },
   "source": [
    "The null hypothesis or status quoue is never less than or greater than any other value. In all instances of the null hypothesis it is always equal to something. In this case as stated above $H_0: \\mu = 30$ not $H_0: \\mu < 30$"
   ]
  },
  {
   "cell_type": "markdown",
   "metadata": {},
   "source": [
    "**Part C**: Finally on track with reasonable hypotheses of $H_0: \\mu = 30$ and $H_1: \\mu < 30$, Stevey computes a normalized test-statistic of $z = -1.35$ for the mean age and concludes that since $z = -1.35 < 0.05$ there is sufficient statistical evidence at the $\\alpha = 0.05$ significance level that the mean age of their customers is less than 30.  "
   ]
  },
  {
   "cell_type": "markdown",
   "metadata": {
    "collapsed": true
   },
   "source": [
    "You cannot compare an alpha with a z-statistic you need to calculate the critical value of z and then compare that to the z-statistic in order to actually get anything to prove either the null or alternative hypothesis."
   ]
  },
  {
   "cell_type": "markdown",
   "metadata": {},
   "source": [
    "**Part D**: This time, with the hypotheses again $H_0: \\mu = 30$ and $H_1: \\mu < 30$, Stevey computes a p-value of $0.03$, and thus concludes that there is only a 3% probability that the null hypothesis is true. "
   ]
  },
  {
   "cell_type": "markdown",
   "metadata": {},
   "source": [
    "In this instance Stevey is wrong because he is falling into the common missconception that p-values can be used as a way to determine the chance the null hypothesis is true. This is not correct the correct way to interpret a p-value is it represents the probabillity of your data given your hypothesis."
   ]
  },
  {
   "cell_type": "markdown",
   "metadata": {},
   "source": [
    "### [10 points] Problem 2 - Scientists vs. P-Values \n",
    "***\n",
    "\n",
    "Read the following article from **FiveThirtyEight**: [Statisticians Found One Thing They Can Agree On: It's Time to Stop Misusing P-Values](http://fivethirtyeight.com/features/statisticians-found-one-thing-they-can-agree-on-its-time-to-stop-misusing-p-values/). In what ways are scientists misusing p-values?  What suggestions are being made to use them properly? "
   ]
  },
  {
   "cell_type": "markdown",
   "metadata": {},
   "source": [
    "p-values are being missued in such a way that if the values are greater than some arbitrary threshold studies with those values are being published over research that is more through but has lower p-values. p-values are (incorrectly) used to be a substitute for scientific evidence. The proposed ways to make them be used more properly by making sure they aren't used to sort results into either significant or not significant as well as making sure statisticians aren't just cherry picking their data to get a good looking p-value."
   ]
  },
  {
   "cell_type": "markdown",
   "metadata": {},
   "source": [
    "### [20 points] Problem 3 - Evaluating Pizza Delivery Performance \n",
    "***\n",
    "\n",
    "The manager of a pizza chain with multiple locations likes to keep meticulous data on his pizza deliveries.  The data from more than 1200 deliveries in May 2014 is stored in pizza.csv. "
   ]
  },
  {
   "cell_type": "code",
   "execution_count": 2,
   "metadata": {
    "collapsed": true
   },
   "outputs": [],
   "source": [
    "np.random.seed(1235)\n",
    "dfP = pd.read_csv(\"data/pizza.csv\")"
   ]
  },
  {
   "cell_type": "code",
   "execution_count": 3,
   "metadata": {},
   "outputs": [
    {
     "data": {
      "text/html": [
       "<div>\n",
       "<style>\n",
       "    .dataframe thead tr:only-child th {\n",
       "        text-align: right;\n",
       "    }\n",
       "\n",
       "    .dataframe thead th {\n",
       "        text-align: left;\n",
       "    }\n",
       "\n",
       "    .dataframe tbody tr th {\n",
       "        vertical-align: top;\n",
       "    }\n",
       "</style>\n",
       "<table border=\"1\" class=\"dataframe\">\n",
       "  <thead>\n",
       "    <tr style=\"text-align: right;\">\n",
       "      <th></th>\n",
       "      <th>day</th>\n",
       "      <th>date</th>\n",
       "      <th>time</th>\n",
       "      <th>operator</th>\n",
       "      <th>branch</th>\n",
       "      <th>driver</th>\n",
       "      <th>temperature</th>\n",
       "      <th>bill</th>\n",
       "      <th>pizzas</th>\n",
       "    </tr>\n",
       "  </thead>\n",
       "  <tbody>\n",
       "    <tr>\n",
       "      <th>0</th>\n",
       "      <td>Thursday</td>\n",
       "      <td>01-May-14</td>\n",
       "      <td>33.708636</td>\n",
       "      <td>Laura</td>\n",
       "      <td>East</td>\n",
       "      <td>Bruno</td>\n",
       "      <td>71.433084</td>\n",
       "      <td>58.4</td>\n",
       "      <td>4</td>\n",
       "    </tr>\n",
       "    <tr>\n",
       "      <th>1</th>\n",
       "      <td>Thursday</td>\n",
       "      <td>01-May-14</td>\n",
       "      <td>29.382070</td>\n",
       "      <td>Melissa</td>\n",
       "      <td>East</td>\n",
       "      <td>Salvatore</td>\n",
       "      <td>64.952920</td>\n",
       "      <td>26.4</td>\n",
       "      <td>2</td>\n",
       "    </tr>\n",
       "    <tr>\n",
       "      <th>2</th>\n",
       "      <td>Thursday</td>\n",
       "      <td>01-May-14</td>\n",
       "      <td>33.580664</td>\n",
       "      <td>Melissa</td>\n",
       "      <td>West</td>\n",
       "      <td>Salvatore</td>\n",
       "      <td>49.113452</td>\n",
       "      <td>58.1</td>\n",
       "      <td>3</td>\n",
       "    </tr>\n",
       "    <tr>\n",
       "      <th>3</th>\n",
       "      <td>Thursday</td>\n",
       "      <td>01-May-14</td>\n",
       "      <td>32.505369</td>\n",
       "      <td>Melissa</td>\n",
       "      <td>East</td>\n",
       "      <td>Salvatore</td>\n",
       "      <td>64.872559</td>\n",
       "      <td>35.2</td>\n",
       "      <td>3</td>\n",
       "    </tr>\n",
       "    <tr>\n",
       "      <th>4</th>\n",
       "      <td>Thursday</td>\n",
       "      <td>01-May-14</td>\n",
       "      <td>25.493613</td>\n",
       "      <td>Melissa</td>\n",
       "      <td>West</td>\n",
       "      <td>Salvatore</td>\n",
       "      <td>59.630052</td>\n",
       "      <td>38.4</td>\n",
       "      <td>2</td>\n",
       "    </tr>\n",
       "    <tr>\n",
       "      <th>5</th>\n",
       "      <td>Thursday</td>\n",
       "      <td>01-May-14</td>\n",
       "      <td>21.727466</td>\n",
       "      <td>Melissa</td>\n",
       "      <td>Centre</td>\n",
       "      <td>Bruno</td>\n",
       "      <td>53.715391</td>\n",
       "      <td>61.8</td>\n",
       "      <td>4</td>\n",
       "    </tr>\n",
       "    <tr>\n",
       "      <th>6</th>\n",
       "      <td>Thursday</td>\n",
       "      <td>01-May-14</td>\n",
       "      <td>38.394169</td>\n",
       "      <td>Laura</td>\n",
       "      <td>West</td>\n",
       "      <td>Bruno</td>\n",
       "      <td>60.266862</td>\n",
       "      <td>57.9</td>\n",
       "      <td>3</td>\n",
       "    </tr>\n",
       "    <tr>\n",
       "      <th>7</th>\n",
       "      <td>Thursday</td>\n",
       "      <td>01-May-14</td>\n",
       "      <td>22.186179</td>\n",
       "      <td>Melissa</td>\n",
       "      <td>West</td>\n",
       "      <td>Mario</td>\n",
       "      <td>61.187654</td>\n",
       "      <td>35.8</td>\n",
       "      <td>2</td>\n",
       "    </tr>\n",
       "    <tr>\n",
       "      <th>8</th>\n",
       "      <td>Thursday</td>\n",
       "      <td>01-May-14</td>\n",
       "      <td>35.324994</td>\n",
       "      <td>Laura</td>\n",
       "      <td>Centre</td>\n",
       "      <td>Mario</td>\n",
       "      <td>64.204093</td>\n",
       "      <td>36.6</td>\n",
       "      <td>2</td>\n",
       "    </tr>\n",
       "    <tr>\n",
       "      <th>9</th>\n",
       "      <td>Thursday</td>\n",
       "      <td>01-May-14</td>\n",
       "      <td>34.015280</td>\n",
       "      <td>Melissa</td>\n",
       "      <td>Centre</td>\n",
       "      <td>Bruno</td>\n",
       "      <td>67.383452</td>\n",
       "      <td>44.8</td>\n",
       "      <td>5</td>\n",
       "    </tr>\n",
       "    <tr>\n",
       "      <th>10</th>\n",
       "      <td>Thursday</td>\n",
       "      <td>01-May-14</td>\n",
       "      <td>33.792085</td>\n",
       "      <td>Melissa</td>\n",
       "      <td>Centre</td>\n",
       "      <td>Bruno</td>\n",
       "      <td>70.983051</td>\n",
       "      <td>49.5</td>\n",
       "      <td>4</td>\n",
       "    </tr>\n",
       "    <tr>\n",
       "      <th>11</th>\n",
       "      <td>Thursday</td>\n",
       "      <td>01-May-14</td>\n",
       "      <td>29.131207</td>\n",
       "      <td>Laura</td>\n",
       "      <td>East</td>\n",
       "      <td>Mario</td>\n",
       "      <td>69.949241</td>\n",
       "      <td>49.7</td>\n",
       "      <td>3</td>\n",
       "    </tr>\n",
       "    <tr>\n",
       "      <th>12</th>\n",
       "      <td>Thursday</td>\n",
       "      <td>01-May-14</td>\n",
       "      <td>21.926461</td>\n",
       "      <td>Melissa</td>\n",
       "      <td>West</td>\n",
       "      <td>Mario</td>\n",
       "      <td>60.798941</td>\n",
       "      <td>41.1</td>\n",
       "      <td>1</td>\n",
       "    </tr>\n",
       "    <tr>\n",
       "      <th>13</th>\n",
       "      <td>Thursday</td>\n",
       "      <td>01-May-14</td>\n",
       "      <td>28.185400</td>\n",
       "      <td>Melissa</td>\n",
       "      <td>Centre</td>\n",
       "      <td>Salvatore</td>\n",
       "      <td>72.440348</td>\n",
       "      <td>42.9</td>\n",
       "      <td>1</td>\n",
       "    </tr>\n",
       "    <tr>\n",
       "      <th>14</th>\n",
       "      <td>Thursday</td>\n",
       "      <td>01-May-14</td>\n",
       "      <td>32.603202</td>\n",
       "      <td>Laura</td>\n",
       "      <td>West</td>\n",
       "      <td>Bruno</td>\n",
       "      <td>63.111336</td>\n",
       "      <td>25.9</td>\n",
       "      <td>1</td>\n",
       "    </tr>\n",
       "    <tr>\n",
       "      <th>15</th>\n",
       "      <td>Thursday</td>\n",
       "      <td>01-May-14</td>\n",
       "      <td>32.648734</td>\n",
       "      <td>Melissa</td>\n",
       "      <td>West</td>\n",
       "      <td>Salvatore</td>\n",
       "      <td>55.732293</td>\n",
       "      <td>41.5</td>\n",
       "      <td>6</td>\n",
       "    </tr>\n",
       "    <tr>\n",
       "      <th>16</th>\n",
       "      <td>Thursday</td>\n",
       "      <td>01-May-14</td>\n",
       "      <td>37.398504</td>\n",
       "      <td>Melissa</td>\n",
       "      <td>Centre</td>\n",
       "      <td>Mario</td>\n",
       "      <td>54.507040</td>\n",
       "      <td>34.9</td>\n",
       "      <td>3</td>\n",
       "    </tr>\n",
       "    <tr>\n",
       "      <th>17</th>\n",
       "      <td>Thursday</td>\n",
       "      <td>01-May-14</td>\n",
       "      <td>33.956136</td>\n",
       "      <td>Melissa</td>\n",
       "      <td>East</td>\n",
       "      <td>Bruno</td>\n",
       "      <td>58.103934</td>\n",
       "      <td>42.4</td>\n",
       "      <td>4</td>\n",
       "    </tr>\n",
       "    <tr>\n",
       "      <th>18</th>\n",
       "      <td>Thursday</td>\n",
       "      <td>01-May-14</td>\n",
       "      <td>26.379708</td>\n",
       "      <td>Laura</td>\n",
       "      <td>East</td>\n",
       "      <td>Mario</td>\n",
       "      <td>56.517764</td>\n",
       "      <td>27.3</td>\n",
       "      <td>1</td>\n",
       "    </tr>\n",
       "    <tr>\n",
       "      <th>19</th>\n",
       "      <td>Thursday</td>\n",
       "      <td>01-May-14</td>\n",
       "      <td>33.193288</td>\n",
       "      <td>Melissa</td>\n",
       "      <td>Centre</td>\n",
       "      <td>Bruno</td>\n",
       "      <td>48.759259</td>\n",
       "      <td>47.7</td>\n",
       "      <td>4</td>\n",
       "    </tr>\n",
       "  </tbody>\n",
       "</table>\n",
       "</div>"
      ],
      "text/plain": [
       "         day       date       time operator  branch     driver  temperature  \\\n",
       "0   Thursday  01-May-14  33.708636    Laura    East      Bruno    71.433084   \n",
       "1   Thursday  01-May-14  29.382070  Melissa    East  Salvatore    64.952920   \n",
       "2   Thursday  01-May-14  33.580664  Melissa    West  Salvatore    49.113452   \n",
       "3   Thursday  01-May-14  32.505369  Melissa    East  Salvatore    64.872559   \n",
       "4   Thursday  01-May-14  25.493613  Melissa    West  Salvatore    59.630052   \n",
       "5   Thursday  01-May-14  21.727466  Melissa  Centre      Bruno    53.715391   \n",
       "6   Thursday  01-May-14  38.394169    Laura    West      Bruno    60.266862   \n",
       "7   Thursday  01-May-14  22.186179  Melissa    West      Mario    61.187654   \n",
       "8   Thursday  01-May-14  35.324994    Laura  Centre      Mario    64.204093   \n",
       "9   Thursday  01-May-14  34.015280  Melissa  Centre      Bruno    67.383452   \n",
       "10  Thursday  01-May-14  33.792085  Melissa  Centre      Bruno    70.983051   \n",
       "11  Thursday  01-May-14  29.131207    Laura    East      Mario    69.949241   \n",
       "12  Thursday  01-May-14  21.926461  Melissa    West      Mario    60.798941   \n",
       "13  Thursday  01-May-14  28.185400  Melissa  Centre  Salvatore    72.440348   \n",
       "14  Thursday  01-May-14  32.603202    Laura    West      Bruno    63.111336   \n",
       "15  Thursday  01-May-14  32.648734  Melissa    West  Salvatore    55.732293   \n",
       "16  Thursday  01-May-14  37.398504  Melissa  Centre      Mario    54.507040   \n",
       "17  Thursday  01-May-14  33.956136  Melissa    East      Bruno    58.103934   \n",
       "18  Thursday  01-May-14  26.379708    Laura    East      Mario    56.517764   \n",
       "19  Thursday  01-May-14  33.193288  Melissa  Centre      Bruno    48.759259   \n",
       "\n",
       "    bill  pizzas  \n",
       "0   58.4       4  \n",
       "1   26.4       2  \n",
       "2   58.1       3  \n",
       "3   35.2       3  \n",
       "4   38.4       2  \n",
       "5   61.8       4  \n",
       "6   57.9       3  \n",
       "7   35.8       2  \n",
       "8   36.6       2  \n",
       "9   44.8       5  \n",
       "10  49.5       4  \n",
       "11  49.7       3  \n",
       "12  41.1       1  \n",
       "13  42.9       1  \n",
       "14  25.9       1  \n",
       "15  41.5       6  \n",
       "16  34.9       3  \n",
       "17  42.4       4  \n",
       "18  27.3       1  \n",
       "19  47.7       4  "
      ]
     },
     "execution_count": 3,
     "metadata": {},
     "output_type": "execute_result"
    }
   ],
   "source": [
    "dfP.head(20)"
   ]
  },
  {
   "cell_type": "markdown",
   "metadata": {},
   "source": [
    "**Part A**: The manager's goal is to have an average delivery time across all branches of less than 30 minutes.  Perform an appropriate hypothesis test at the $\\alpha=0.05$ significance level to evaluate whether this goal has been achieved.  Be sure to clearly state your null and alternate hypothesis, describe your testing procedure, and show all calculations in Python. "
   ]
  },
  {
   "cell_type": "markdown",
   "metadata": {
    "collapsed": true
   },
   "source": [
    "The null hypothesis test for this situation is $H_0: \\mu = 30$ as the status quo is it takes 30 minutes do deliver some pipping hot 'Za. The alternate hypothesis is testing the managers goal of having an average delivery time of less than 30 minutes so: $H_1: \\mu < 30$"
   ]
  },
  {
   "cell_type": "code",
   "execution_count": 4,
   "metadata": {},
   "outputs": [
    {
     "name": "stdout",
     "output_type": "stream",
     "text": [
      "The zHat value for average delivery time is -3.172 which is not within the critical region of [-1.645, 1.645] which means we reject the null hypothesis in favor of the alternative hypothesis\n"
     ]
    }
   ],
   "source": [
    "#mu is the true mean xbar is the sample mean\n",
    "\n",
    "xBar = np.mean(dfP[\"time\"])\n",
    "mu = 30\n",
    "\n",
    "sigma = np.std(dfP[\"time\"])\n",
    "\n",
    "n = dfP[\"time\"].count()\n",
    "\n",
    "zHat = (xBar - mu) / (sigma/(np.sqrt(n)))\n",
    "#print(zHat)\n",
    "\n",
    "alpha = 0.05\n",
    "\n",
    "zCrit = stats.norm.ppf(alpha)\n",
    "#print(zCrit)\n",
    "print(\"The zHat value for average delivery time is {:.3f} which is not within the critical region of [{:.3f}, {:.3f}] which means we reject the null hypothesis in favor of the alternative hypothesis\".format(zHat, zCrit, -zCrit))"
   ]
  },
  {
   "cell_type": "markdown",
   "metadata": {},
   "source": [
    "Since the zHat value is more negative than the zCrit value we can reject the null hypothesis in favor of the alternative hypothesis that states that on average the standard delivery time for Hot 'Za is less than 30 minutes."
   ]
  },
  {
   "cell_type": "markdown",
   "metadata": {},
   "source": [
    "**Part B**: The manager also has the goal of having an average delivery temperature across all branches of greater than 65F.  Perform an appropriate hypothesis test at the $\\alpha=0.05$ significance level to evaluate whether this goal has been achieved.  Be sure to clearly state your null and alternate hypothesis, describe your testing procedure, and show all calculations in Python. "
   ]
  },
  {
   "cell_type": "markdown",
   "metadata": {},
   "source": [
    "The null hypothesis test for this situation is $H_0: \\mu = 65$ as the status quo is the temperature of some pipping hot 'Za is 65F. The alternate hypothesis is testing the managers goal of having an average 'Za heat be greater than 65F so: $H_1: \\mu > 65$"
   ]
  },
  {
   "cell_type": "code",
   "execution_count": 5,
   "metadata": {},
   "outputs": [
    {
     "name": "stdout",
     "output_type": "stream",
     "text": [
      "The zHat value in the case of temperature is calculated to be 1.382 which is within the critical region of [-1.645, 1.645] which means we reject the alternative hypothesis in favor of the null hypothesis\n"
     ]
    }
   ],
   "source": [
    "xBarT = np.mean(dfP[\"temperature\"])\n",
    "#print(xBarT)\n",
    "muT = 65\n",
    "\n",
    "sigmaT = np.sqrt(dfP[\"temperature\"].var())\n",
    "#print(sigmaT**2)\n",
    "nT = dfP[\"temperature\"].count()\n",
    "#print(nT)\n",
    "zHatT = (xBarT - muT) / (sigmaT/(np.sqrt(nT)))\n",
    "#print(zHatT) # should be pos\n",
    "\n",
    "alpha = 0.05\n",
    "\n",
    "zCritT = stats.norm.ppf(alpha)\n",
    "#print(zCritT)\n",
    "print(\"The zHat value in the case of temperature is calculated to be {:.3f} which is within the critical region of [{:.3f}, {:.3f}] which means we reject the alternative hypothesis in favor of the null hypothesis\".format(zHatT, zCritT, -zCritT))"
   ]
  },
  {
   "cell_type": "markdown",
   "metadata": {},
   "source": [
    "Since the zHat value is within the critical region of zCrit we can reject the alternative hypothesis in favor for the null hypothesis. So we know that the average temperature of Hot 'Za  is less than 65F."
   ]
  },
  {
   "cell_type": "markdown",
   "metadata": {},
   "source": [
    "**Part C**: The manager has enough money to give one of his delivery drivers a raise based on good performance. He knows from the data that his two best drivers are Mario and Luigi, but he's not sure if there is evidence that either one is better than the other.  Using delivery time and temperature as the criteria, perform any necessary hypothesis tests at the $\\alpha = 0.05$ significance level, to determine if one of the drivers deserves a raise. Be sure to clearly describe your hypotheses and methodology, and show any relevant computations in Python. "
   ]
  },
  {
   "cell_type": "markdown",
   "metadata": {},
   "source": [
    "The null hypothesis is they are equal in terms of the time it takes them to deliver Hot 'Za and the temperature they deliver Hot 'Za at is the same and the alternative hypothesis is they aren't equal meaning that there is a difference between both the pizza delivery time as well as the average delivery temp for either Mario or Luigi.\n",
    "\n",
    "$$H_0: \\mu = 0$$\n",
    "\n",
    "$$H_1: \\mu \\neq 0$$"
   ]
  },
  {
   "cell_type": "code",
   "execution_count": 6,
   "metadata": {},
   "outputs": [
    {
     "name": "stdout",
     "output_type": "stream",
     "text": [
      "The zHat value for the difference in delivery times between Mario and Luigi is calculated to be 0.003 which is within the critical region of [-1.960, 1.960] which means we reject the alternative hypothesis in favor of the null hypothesis\n",
      "The zHat value for the difference in delivery temperatures between Mario and Luigi is calculated to be -0.732 which is within the critical region of [-1.960, 1.960] which means we reject the alternative hypothesis in favor of the null hypothesis\n",
      "As there is no statistically significant difference between the time or the temperature either Mario and Luigi deliver Hot 'Za at they are equally better than every other driver and the raise should be split between the two of them.\n"
     ]
    }
   ],
   "source": [
    "#n = dfP[\"temperature\"].count() # Might be wrong\n",
    "#print(n)\n",
    "MarioC = dfP.loc[dfP[\"driver\"] == \"Mario\"]\n",
    "MarioTemp = MarioC[\"temperature\"]\n",
    "MarioTime = MarioC[\"time\"]\n",
    "MCount = MarioTemp.count()\n",
    "# print(MCount)\n",
    "\n",
    "MTempM = np.mean(MarioTemp)\n",
    "MTempSigma = np.std(MarioTemp)\n",
    "MTimeM = np.mean(MarioTime)\n",
    "MTimeSigma = np.std(MarioTime)\n",
    "\n",
    "\n",
    "LuigiC = dfP.loc[dfP[\"driver\"] == \"Luigi\"]\n",
    "LuigiTemp = LuigiC[\"temperature\"]\n",
    "LuigiTime = LuigiC[\"time\"]\n",
    "LTempM = np.mean(LuigiTemp)\n",
    "LTempSigma = np.std(LuigiTime)\n",
    "LTimeM = np.mean(LuigiTime)\n",
    "LTimeSigma = np.std(LuigiTime)\n",
    "LCount = LuigiTemp.count()\n",
    "# print(LCount)\n",
    "\n",
    "# Time compare\n",
    "TimeDiff = (MTimeM - LTimeM) / (np.sqrt((MTimeSigma)/np.sqrt(MCount)+(LTimeSigma)/np.sqrt(LCount)))\n",
    "#print(TimeDiff)\n",
    "# Temp compare\n",
    "TempDiff = (MTempM - LTempM) / (np.sqrt((MTempSigma)/np.sqrt(MCount)+(LTempSigma)/np.sqrt(LCount)))\n",
    "#print(TempDiff)\n",
    "\n",
    "alpha = 0.05\n",
    "\n",
    "zCritP = stats.norm.ppf(1-alpha/2)\n",
    "zCritN = stats.norm.ppf(alpha/2)\n",
    "print(\"The zHat value for the difference in delivery times between Mario and Luigi is calculated to be {:.3f} which is within the critical region of [{:.3f}, {:.3f}] which means we reject the alternative hypothesis in favor of the null hypothesis\".format(TimeDiff, zCritN, zCritP))#print(zCritT)\n",
    "print(\"The zHat value for the difference in delivery temperatures between Mario and Luigi is calculated to be {:.3f} which is within the critical region of [{:.3f}, {:.3f}] which means we reject the alternative hypothesis in favor of the null hypothesis\".format(TempDiff, zCritN, zCritP))#print(zCritT)\n",
    "print(\"As there is no statistically significant difference between the time or the temperature either Mario and Luigi deliver Hot 'Za at they are equally better than every other driver and the raise should be split between the two of them.\")\n",
    "#print(MarioC)"
   ]
  },
  {
   "cell_type": "markdown",
   "metadata": {},
   "source": [
    "The zHat value for the difference in delivery times between Mario and Luigi is calculated to be 0.003 which is within the critical region of [-1.960, 1.960] which means we reject the alternative hypothesis in favor of the null hypothesis.\n",
    "\n",
    "The zHat value for the difference in delivery temperatures between Mario and Luigi is calculated to be -0.732 which is within the critical region of [-1.960, 1.960] which means we reject the alternative hypothesis in favor of the null hypothesis.\n",
    "\n",
    "As there is no statistically significant difference between the time or the temperature either Mario and Luigi deliver Hot 'Za at they are equally better than every other driver and the raise should be split between the two of them.\n"
   ]
  },
  {
   "cell_type": "markdown",
   "metadata": {},
   "source": [
    "**Part D**: On the other hand, the manager suspects that Salvatore has been underperforming as a driver.  The manager has a policy that if a pizza takes 40 minutes or longer to be delivered, he has to fork over a free bottle of wine.  This policy is only financially viable for the pizza chain if they have give out free wine on less than 5% of all pizza deliveries.  Perform a hypothesis test at the $\\alpha = 0.05$ significance level to determine if there is significant evidence that the proportion of Salvatore's deliveries that take longer than 40 minutes is greater than 5%.  "
   ]
  },
  {
   "cell_type": "markdown",
   "metadata": {},
   "source": [
    "The null hypothesis in this case is $H_0: \\mu = 5\\%$ and the alternate hypothesis is $H_1: \\mu < 5\\%$. In this question we are assuming that the null hypothesis is that 5% of Salvatore's deliveries are late and the alternate hypothesis is that less than 5% of his deliveries are late. If at least 5% of his deliveries are late we know he is underperforming as a driver and he is costing the manager money with all the free wine that must be given away."
   ]
  },
  {
   "cell_type": "code",
   "execution_count": 7,
   "metadata": {},
   "outputs": [
    {
     "name": "stdout",
     "output_type": "stream",
     "text": [
      "The zHat value for proportion of Salvatore's late delivery time is 0.445 which is within the critical region of [-1.645, 1.645] which means we cannot reject the null hypothesis in favor of the alternative hypothesis\n"
     ]
    }
   ],
   "source": [
    "# We care if the pizza is greater than or equal to 5% want the proportion of late pizzas to be less than or equal to 5%\n",
    "#Turn data to estimate proportion\n",
    "# The null hypothesis is that 5% of Salvatore's deliveries are late\n",
    "Salv = dfP.loc[dfP[\"driver\"] == \"Salvatore\"]\n",
    "#print(Salv)\n",
    "SalvT = Salv[\"time\"]\n",
    "SalvCount = SalvT.count()\n",
    "#print(SalvCount)\n",
    "SalvLate = SalvT[40 < SalvT]\n",
    "SalvLCount = SalvLate.count()\n",
    "# print(SalvLCount)\n",
    "#print(SalvLate)\n",
    "p = 0.05 # Assumed from the null hypothesis\n",
    "PropLate = SalvLCount / SalvCount\n",
    "\n",
    "#print(PropLate)\n",
    "VarLate =  p*(1-p)/SalvCount\n",
    "#print(VarLate)\n",
    "sigmaL = np.sqrt(VarLate)\n",
    "#print(sigmaL)\n",
    "alpha = 0.05\n",
    "\n",
    "\n",
    "ProportionTest = (PropLate - p) / sigmaL\n",
    "#print(ProportionTest)\n",
    "zCrit = stats.norm.ppf(alpha)\n",
    "print(\"The zHat value for proportion of Salvatore's late delivery time is {:.3f} which is within the critical region of [{:.3f}, {:.3f}] which means we cannot reject the null hypothesis in favor of the alternative hypothesis\".format(ProportionTest, zCrit, -zCrit))\n",
    "#print(PropLate)\n",
    "#print(zCrit)"
   ]
  },
  {
   "cell_type": "markdown",
   "metadata": {},
   "source": [
    "The zHat value for proportion of Salvatore's late delivery time is 0.445 which is within the critical region of [-1.645, 1.645] which means we cannot reject the null hypothesis in favor of the alternative hypothesis\n",
    "\n",
    "So we must reject the alternate hypothesis in favor of the null hypothesis."
   ]
  },
  {
   "cell_type": "markdown",
   "metadata": {},
   "source": [
    "### [15 points] Problem 4 - Naps vs Coffee for Memory? \n",
    "***\n",
    "\n",
    "The consumption of coffee to benefit alertness is a common activity practiced by 90% of adults in North America. Often coffee is used to replace the need for sleep. One recent study compares students’ ability to recall memorized information after either the consumption of coffee or a brief nap. A random sample of 24 adults\n",
    "were randomly divided into two groups and verbally given a list\n",
    "of 25 words to memorize. During a break, one of the groups took a nap for an hour and a half,\n",
    "another group stayed awake and were given a coffee an hour prior to testing. Researchers measured the number of words participants were\n",
    "able to recall following the break. The summary statistics for the two groups are shown below.\n",
    "\n",
    "$$\n",
    "\\begin{array}{c|c|c|c}\n",
    "\\textrm{Group} & \\textrm{Sample Size} & \\textrm{Mean} & \\textrm{Standard Deviation} \\\\\n",
    "\\hline \n",
    "\\textrm{Nap} & 12 & 15.5 & 3.2 \\\\ \n",
    "\\textrm{Coffee} & 12 & 12.25 & 3.1 \\\\ \n",
    "\\end{array}\n",
    "$$\n",
    "\n",
    "In previous experiments the mean recall measurement was found to be normally distributed. \n",
    "\n",
    "**Part A**: Compute a 95% t-confidence interval for the mean recall measurement for participants that took a nap before the test. Do all computations in Python. "
   ]
  },
  {
   "cell_type": "markdown",
   "metadata": {},
   "source": [
    "The 95% confidence interval for the mean recall measurement for participants that took a nap is is: [13.84103, 17.15897]"
   ]
  },
  {
   "cell_type": "code",
   "execution_count": 8,
   "metadata": {},
   "outputs": [
    {
     "name": "stdout",
     "output_type": "stream",
     "text": [
      "The 95% confidence interval for the mean recall measurement for participants that took a nap is is: [13.46682, 17.53318]\n"
     ]
    }
   ],
   "source": [
    "# This is fine\n",
    "alpha = 0.05\n",
    "NapSize = 12\n",
    "NapMean = 15.5\n",
    "Napstd = 3.2\n",
    "sqrtSize = np.sqrt(NapSize)\n",
    "tVal = stats.t.ppf((alpha/2), NapSize-1)\n",
    "#print(tVal)\n",
    "LowCIS = NapMean - tVal * Napstd/sqrtSize\n",
    "#print(LowCIS)\n",
    "UpCIS = NapMean + tVal * Napstd/sqrtSize\n",
    "#print(UpCIS)\n",
    "print(\"The 95% confidence interval for the mean recall measurement for participants that took a nap is is: [{:.5f}, {:.5f}]\".format(UpCIS, LowCIS))\n"
   ]
  },
  {
   "cell_type": "markdown",
   "metadata": {},
   "source": [
    "**Part B**: Is there sufficient evidence, at the $\\alpha = 0.05$ significance level, to conclude that taking a nap promotes better memory recall that drinking coffee?  Be sure to clearly explain the test that you're doing and state all hypotheses. Do all computations in Python. "
   ]
  },
  {
   "cell_type": "markdown",
   "metadata": {},
   "source": [
    "To calculate the t-test statisic I will use the equation \n",
    "$$ T = \\frac{\\bar{x_n} - \\bar{x_m}}{\\sqrt{\\frac{((s_n)^2)}{n_n} + \\frac{((s_m)^2)}{n_m}}} $$"
   ]
  },
  {
   "cell_type": "code",
   "execution_count": 9,
   "metadata": {},
   "outputs": [
    {
     "name": "stdout",
     "output_type": "stream",
     "text": [
      "The T-test statisic value for difference in memory between drinking coffee and taking naps is 1.717 which is within the critical region of [-2.527, 2.527] which means we cannot reject the null hypothesis in favor of the alternative hypothesis\n"
     ]
    }
   ],
   "source": [
    "# Use a T-test\n",
    "alpha = 0.05\n",
    "CoffSize = 12\n",
    "CoffMean = 12.25\n",
    "Coffstd = 3.1\n",
    "NapSize = 12\n",
    "NapMean = 15.5\n",
    "Napstd = 3.2\n",
    "tVal = stats.t.ppf((1-alpha), CoffSize+NapSize-2)\n",
    "#print(tVal)\n",
    "TNum = NapMean - CoffMean\n",
    "NapDenom = (Napstd**2) / NapSize\n",
    "CoffDenom = (Coffstd**2) / CoffSize\n",
    "TDenom = np.sqrt(NapDenom + CoffDenom)\n",
    "TCrit = TNum/TDenom\n",
    "#print(TCrit)\n",
    "print(\"The T-test statisic value for difference in memory between drinking coffee and taking naps is {:.3f} which is within the critical region of [{:.3f}, {:.3f}] which means we cannot reject the null hypothesis in favor of the alternative hypothesis\".format(tVal, -TCrit, TCrit))"
   ]
  },
  {
   "cell_type": "markdown",
   "metadata": {},
   "source": [
    "The T-test statisic value for difference in memory between drinking coffee and taking naps is 1.717 which is within the critical region of [-2.527, 2.527] which means we cannot reject the null hypothesis in favor of the alternative hypothesis\n",
    "\n",
    "Utilizing the above equation I was able to calculate the T Critical value of 2.53. From this value we know that if the t value is greater than 2.53 or less than -2.53 it is outside of the rejion and fails the hypothesis test. Since our t value = 1.72 it is within the critical region."
   ]
  },
  {
   "cell_type": "markdown",
   "metadata": {},
   "source": [
    "**Part C**: Compute a 95% confidence interval for the standard deviation of memory recall for coffee drinkers. Do all computations in Python.  "
   ]
  },
  {
   "cell_type": "markdown",
   "metadata": {},
   "source": [
    "The 95% confidence interval for the standard deviation of memory recall for coffee drinkers is: [2.19602, 5.26342]"
   ]
  },
  {
   "cell_type": "code",
   "execution_count": 10,
   "metadata": {},
   "outputs": [
    {
     "name": "stdout",
     "output_type": "stream",
     "text": [
      "The 95% confidence interval for the standard deviation of memory recall for coffee drinkers is: [2.19602, 5.26342]\n"
     ]
    }
   ],
   "source": [
    "CoffSize = 12\n",
    "CoffMean = 12.25\n",
    "Coffstd = 3.1\n",
    "sqrtSize = np.sqrt(CoffSize)\n",
    "alpha = 0.05\n",
    "Chi1 = stats.chi2.ppf(1-alpha/2, CoffSize-1)\n",
    "#print(Chi1)\n",
    "Chi2 = stats.chi2.ppf(alpha/2, CoffSize-1)\n",
    "#print(Chi2)\n",
    "\n",
    "UpCI = np.sqrt(((CoffSize-1) * Coffstd**2)/Chi2)\n",
    "\n",
    "LowCI = np.sqrt(((CoffSize-1) * Coffstd**2)/Chi1)\n",
    "CIArray = [LowCI, UpCI]\n",
    "print(\"The 95% confidence interval for the standard deviation of memory recall for coffee drinkers is: [{:.5f}, {:.5f}]\".format(LowCI, UpCI))"
   ]
  },
  {
   "cell_type": "markdown",
   "metadata": {},
   "source": [
    "### [20 points] Problem 5 - Bad Science for Fun and Profit \n",
    "***\n",
    "\n",
    "[Data Dredging](https://en.wikipedia.org/wiki/Data_dredging) and [p-hacking](https://www.explainxkcd.com/wiki/index.php/882:_Significant) are umbrella terms for the dangerous practice of automatically testing a large number of hypotheses on the entirety or subsets of a single dataset in order to find statistically significant results. In this exercise we will focus on the idea of testing hypotheses on subsets of a single data set.  \n",
    "\n",
    "Johnny Nefarious has landed his first data science internship at an online marketing firm.  His primary summer project has been to design and test a new email advertisement for his company's best-selling product. To test his advertisement his supervisors have allowed him to send his ad to 4 targeted customer groups of 50 people every day for a month. \n",
    "\n",
    "The effectiveness of online advertising is typically measured by the ad's [click-through rate](https://en.wikipedia.org/wiki/Click-through_rate) (CTR), which is defined to be the _proportion_ of users that click on an advertisement. The company's standard email advertisement has a CTR of $0.05$.  Johnny is hoping to land a permanent position at the company when he graduates, so he's **really** motivated to show his supervisors that the CTR of his email advertisement is a (statistically) significant improvement over their previous ad. \n",
    "\n",
    "The data from Johnny's summer experiment can be found in email.csv. Load this dataset into Pandas. "
   ]
  },
  {
   "cell_type": "code",
   "execution_count": 11,
   "metadata": {},
   "outputs": [
    {
     "data": {
      "text/html": [
       "<div>\n",
       "<style>\n",
       "    .dataframe thead tr:only-child th {\n",
       "        text-align: right;\n",
       "    }\n",
       "\n",
       "    .dataframe thead th {\n",
       "        text-align: left;\n",
       "    }\n",
       "\n",
       "    .dataframe tbody tr th {\n",
       "        vertical-align: top;\n",
       "    }\n",
       "</style>\n",
       "<table border=\"1\" class=\"dataframe\">\n",
       "  <thead>\n",
       "    <tr style=\"text-align: right;\">\n",
       "      <th></th>\n",
       "      <th>Group</th>\n",
       "      <th>Date</th>\n",
       "      <th>Sent</th>\n",
       "      <th>Clicked</th>\n",
       "    </tr>\n",
       "  </thead>\n",
       "  <tbody>\n",
       "    <tr>\n",
       "      <th>0</th>\n",
       "      <td>1</td>\n",
       "      <td>NaN</td>\n",
       "      <td>50</td>\n",
       "      <td>1</td>\n",
       "    </tr>\n",
       "    <tr>\n",
       "      <th>1</th>\n",
       "      <td>1</td>\n",
       "      <td>Oct  2 2017</td>\n",
       "      <td>50</td>\n",
       "      <td>2</td>\n",
       "    </tr>\n",
       "    <tr>\n",
       "      <th>2</th>\n",
       "      <td>1</td>\n",
       "      <td>Oct  3 2017</td>\n",
       "      <td>50</td>\n",
       "      <td>4</td>\n",
       "    </tr>\n",
       "    <tr>\n",
       "      <th>3</th>\n",
       "      <td>1</td>\n",
       "      <td>NaN</td>\n",
       "      <td>50</td>\n",
       "      <td>5</td>\n",
       "    </tr>\n",
       "    <tr>\n",
       "      <th>4</th>\n",
       "      <td>1</td>\n",
       "      <td>Oct  5 2017</td>\n",
       "      <td>50</td>\n",
       "      <td>1</td>\n",
       "    </tr>\n",
       "    <tr>\n",
       "      <th>5</th>\n",
       "      <td>1</td>\n",
       "      <td>Oct  6 2017</td>\n",
       "      <td>50</td>\n",
       "      <td>3</td>\n",
       "    </tr>\n",
       "    <tr>\n",
       "      <th>6</th>\n",
       "      <td>1</td>\n",
       "      <td>NaN</td>\n",
       "      <td>50</td>\n",
       "      <td>2</td>\n",
       "    </tr>\n",
       "    <tr>\n",
       "      <th>7</th>\n",
       "      <td>1</td>\n",
       "      <td>NaN</td>\n",
       "      <td>50</td>\n",
       "      <td>1</td>\n",
       "    </tr>\n",
       "    <tr>\n",
       "      <th>8</th>\n",
       "      <td>1</td>\n",
       "      <td>Oct  9 2017</td>\n",
       "      <td>50</td>\n",
       "      <td>2</td>\n",
       "    </tr>\n",
       "    <tr>\n",
       "      <th>9</th>\n",
       "      <td>1</td>\n",
       "      <td>NaN</td>\n",
       "      <td>50</td>\n",
       "      <td>2</td>\n",
       "    </tr>\n",
       "    <tr>\n",
       "      <th>10</th>\n",
       "      <td>1</td>\n",
       "      <td>Oct 11 2017</td>\n",
       "      <td>50</td>\n",
       "      <td>2</td>\n",
       "    </tr>\n",
       "    <tr>\n",
       "      <th>11</th>\n",
       "      <td>1</td>\n",
       "      <td>NaN</td>\n",
       "      <td>50</td>\n",
       "      <td>6</td>\n",
       "    </tr>\n",
       "    <tr>\n",
       "      <th>12</th>\n",
       "      <td>1</td>\n",
       "      <td>Oct 13 2017</td>\n",
       "      <td>50</td>\n",
       "      <td>4</td>\n",
       "    </tr>\n",
       "    <tr>\n",
       "      <th>13</th>\n",
       "      <td>1</td>\n",
       "      <td>Oct 14 2017</td>\n",
       "      <td>50</td>\n",
       "      <td>1</td>\n",
       "    </tr>\n",
       "    <tr>\n",
       "      <th>14</th>\n",
       "      <td>1</td>\n",
       "      <td>NaN</td>\n",
       "      <td>50</td>\n",
       "      <td>1</td>\n",
       "    </tr>\n",
       "    <tr>\n",
       "      <th>15</th>\n",
       "      <td>1</td>\n",
       "      <td>NaN</td>\n",
       "      <td>50</td>\n",
       "      <td>1</td>\n",
       "    </tr>\n",
       "    <tr>\n",
       "      <th>16</th>\n",
       "      <td>1</td>\n",
       "      <td>NaN</td>\n",
       "      <td>50</td>\n",
       "      <td>3</td>\n",
       "    </tr>\n",
       "    <tr>\n",
       "      <th>17</th>\n",
       "      <td>1</td>\n",
       "      <td>NaN</td>\n",
       "      <td>50</td>\n",
       "      <td>3</td>\n",
       "    </tr>\n",
       "    <tr>\n",
       "      <th>18</th>\n",
       "      <td>1</td>\n",
       "      <td>Oct 19 2017</td>\n",
       "      <td>50</td>\n",
       "      <td>2</td>\n",
       "    </tr>\n",
       "    <tr>\n",
       "      <th>19</th>\n",
       "      <td>1</td>\n",
       "      <td>Oct 20 2017</td>\n",
       "      <td>50</td>\n",
       "      <td>1</td>\n",
       "    </tr>\n",
       "    <tr>\n",
       "      <th>20</th>\n",
       "      <td>1</td>\n",
       "      <td>NaN</td>\n",
       "      <td>50</td>\n",
       "      <td>4</td>\n",
       "    </tr>\n",
       "    <tr>\n",
       "      <th>21</th>\n",
       "      <td>1</td>\n",
       "      <td>Oct 22 2017</td>\n",
       "      <td>50</td>\n",
       "      <td>2</td>\n",
       "    </tr>\n",
       "    <tr>\n",
       "      <th>22</th>\n",
       "      <td>1</td>\n",
       "      <td>Oct 23 2017</td>\n",
       "      <td>50</td>\n",
       "      <td>3</td>\n",
       "    </tr>\n",
       "    <tr>\n",
       "      <th>23</th>\n",
       "      <td>1</td>\n",
       "      <td>NaN</td>\n",
       "      <td>50</td>\n",
       "      <td>2</td>\n",
       "    </tr>\n",
       "    <tr>\n",
       "      <th>24</th>\n",
       "      <td>1</td>\n",
       "      <td>Oct 25 2017</td>\n",
       "      <td>50</td>\n",
       "      <td>1</td>\n",
       "    </tr>\n",
       "    <tr>\n",
       "      <th>25</th>\n",
       "      <td>1</td>\n",
       "      <td>Oct 26 2017</td>\n",
       "      <td>50</td>\n",
       "      <td>3</td>\n",
       "    </tr>\n",
       "    <tr>\n",
       "      <th>26</th>\n",
       "      <td>1</td>\n",
       "      <td>Oct 27 2017</td>\n",
       "      <td>50</td>\n",
       "      <td>3</td>\n",
       "    </tr>\n",
       "    <tr>\n",
       "      <th>27</th>\n",
       "      <td>1</td>\n",
       "      <td>Oct 28 2017</td>\n",
       "      <td>50</td>\n",
       "      <td>1</td>\n",
       "    </tr>\n",
       "    <tr>\n",
       "      <th>28</th>\n",
       "      <td>1</td>\n",
       "      <td>Oct 29 2017</td>\n",
       "      <td>50</td>\n",
       "      <td>2</td>\n",
       "    </tr>\n",
       "    <tr>\n",
       "      <th>29</th>\n",
       "      <td>1</td>\n",
       "      <td>Oct 30 2017</td>\n",
       "      <td>50</td>\n",
       "      <td>0</td>\n",
       "    </tr>\n",
       "    <tr>\n",
       "      <th>...</th>\n",
       "      <td>...</td>\n",
       "      <td>...</td>\n",
       "      <td>...</td>\n",
       "      <td>...</td>\n",
       "    </tr>\n",
       "    <tr>\n",
       "      <th>70</th>\n",
       "      <td>3</td>\n",
       "      <td>NaN</td>\n",
       "      <td>50</td>\n",
       "      <td>2</td>\n",
       "    </tr>\n",
       "    <tr>\n",
       "      <th>71</th>\n",
       "      <td>3</td>\n",
       "      <td>Oct 10 2017</td>\n",
       "      <td>50</td>\n",
       "      <td>2</td>\n",
       "    </tr>\n",
       "    <tr>\n",
       "      <th>72</th>\n",
       "      <td>3</td>\n",
       "      <td>Oct 11 2017</td>\n",
       "      <td>50</td>\n",
       "      <td>4</td>\n",
       "    </tr>\n",
       "    <tr>\n",
       "      <th>73</th>\n",
       "      <td>3</td>\n",
       "      <td>Oct 12 2017</td>\n",
       "      <td>50</td>\n",
       "      <td>2</td>\n",
       "    </tr>\n",
       "    <tr>\n",
       "      <th>74</th>\n",
       "      <td>3</td>\n",
       "      <td>Oct 13 2017</td>\n",
       "      <td>50</td>\n",
       "      <td>5</td>\n",
       "    </tr>\n",
       "    <tr>\n",
       "      <th>75</th>\n",
       "      <td>3</td>\n",
       "      <td>NaN</td>\n",
       "      <td>50</td>\n",
       "      <td>2</td>\n",
       "    </tr>\n",
       "    <tr>\n",
       "      <th>76</th>\n",
       "      <td>3</td>\n",
       "      <td>Oct 15 2017</td>\n",
       "      <td>50</td>\n",
       "      <td>4</td>\n",
       "    </tr>\n",
       "    <tr>\n",
       "      <th>77</th>\n",
       "      <td>3</td>\n",
       "      <td>NaN</td>\n",
       "      <td>50</td>\n",
       "      <td>1</td>\n",
       "    </tr>\n",
       "    <tr>\n",
       "      <th>78</th>\n",
       "      <td>3</td>\n",
       "      <td>NaN</td>\n",
       "      <td>50</td>\n",
       "      <td>4</td>\n",
       "    </tr>\n",
       "    <tr>\n",
       "      <th>79</th>\n",
       "      <td>3</td>\n",
       "      <td>Oct 18 2017</td>\n",
       "      <td>50</td>\n",
       "      <td>5</td>\n",
       "    </tr>\n",
       "    <tr>\n",
       "      <th>80</th>\n",
       "      <td>3</td>\n",
       "      <td>Oct 19 2017</td>\n",
       "      <td>50</td>\n",
       "      <td>4</td>\n",
       "    </tr>\n",
       "    <tr>\n",
       "      <th>81</th>\n",
       "      <td>3</td>\n",
       "      <td>NaN</td>\n",
       "      <td>50</td>\n",
       "      <td>0</td>\n",
       "    </tr>\n",
       "    <tr>\n",
       "      <th>82</th>\n",
       "      <td>3</td>\n",
       "      <td>NaN</td>\n",
       "      <td>50</td>\n",
       "      <td>1</td>\n",
       "    </tr>\n",
       "    <tr>\n",
       "      <th>83</th>\n",
       "      <td>3</td>\n",
       "      <td>NaN</td>\n",
       "      <td>50</td>\n",
       "      <td>2</td>\n",
       "    </tr>\n",
       "    <tr>\n",
       "      <th>84</th>\n",
       "      <td>3</td>\n",
       "      <td>Oct 23 2017</td>\n",
       "      <td>50</td>\n",
       "      <td>5</td>\n",
       "    </tr>\n",
       "    <tr>\n",
       "      <th>85</th>\n",
       "      <td>3</td>\n",
       "      <td>NaN</td>\n",
       "      <td>50</td>\n",
       "      <td>1</td>\n",
       "    </tr>\n",
       "    <tr>\n",
       "      <th>86</th>\n",
       "      <td>3</td>\n",
       "      <td>NaN</td>\n",
       "      <td>50</td>\n",
       "      <td>5</td>\n",
       "    </tr>\n",
       "    <tr>\n",
       "      <th>87</th>\n",
       "      <td>3</td>\n",
       "      <td>Oct 26 2017</td>\n",
       "      <td>50</td>\n",
       "      <td>4</td>\n",
       "    </tr>\n",
       "    <tr>\n",
       "      <th>88</th>\n",
       "      <td>3</td>\n",
       "      <td>NaN</td>\n",
       "      <td>50</td>\n",
       "      <td>1</td>\n",
       "    </tr>\n",
       "    <tr>\n",
       "      <th>89</th>\n",
       "      <td>3</td>\n",
       "      <td>Oct 28 2017</td>\n",
       "      <td>50</td>\n",
       "      <td>0</td>\n",
       "    </tr>\n",
       "    <tr>\n",
       "      <th>90</th>\n",
       "      <td>3</td>\n",
       "      <td>NaN</td>\n",
       "      <td>50</td>\n",
       "      <td>3</td>\n",
       "    </tr>\n",
       "    <tr>\n",
       "      <th>91</th>\n",
       "      <td>3</td>\n",
       "      <td>NaN</td>\n",
       "      <td>50</td>\n",
       "      <td>1</td>\n",
       "    </tr>\n",
       "    <tr>\n",
       "      <th>92</th>\n",
       "      <td>3</td>\n",
       "      <td>Oct 31 2017</td>\n",
       "      <td>50</td>\n",
       "      <td>3</td>\n",
       "    </tr>\n",
       "    <tr>\n",
       "      <th>93</th>\n",
       "      <td>4</td>\n",
       "      <td>Oct  1 2017</td>\n",
       "      <td>50</td>\n",
       "      <td>2</td>\n",
       "    </tr>\n",
       "    <tr>\n",
       "      <th>94</th>\n",
       "      <td>4</td>\n",
       "      <td>Oct  2 2017</td>\n",
       "      <td>50</td>\n",
       "      <td>1</td>\n",
       "    </tr>\n",
       "    <tr>\n",
       "      <th>95</th>\n",
       "      <td>4</td>\n",
       "      <td>Oct  3 2017</td>\n",
       "      <td>50</td>\n",
       "      <td>1</td>\n",
       "    </tr>\n",
       "    <tr>\n",
       "      <th>96</th>\n",
       "      <td>4</td>\n",
       "      <td>Oct  4 2017</td>\n",
       "      <td>50</td>\n",
       "      <td>3</td>\n",
       "    </tr>\n",
       "    <tr>\n",
       "      <th>97</th>\n",
       "      <td>4</td>\n",
       "      <td>Oct  5 2017</td>\n",
       "      <td>50</td>\n",
       "      <td>1</td>\n",
       "    </tr>\n",
       "    <tr>\n",
       "      <th>98</th>\n",
       "      <td>4</td>\n",
       "      <td>NaN</td>\n",
       "      <td>50</td>\n",
       "      <td>5</td>\n",
       "    </tr>\n",
       "    <tr>\n",
       "      <th>99</th>\n",
       "      <td>4</td>\n",
       "      <td>Oct  7 2017</td>\n",
       "      <td>50</td>\n",
       "      <td>2</td>\n",
       "    </tr>\n",
       "  </tbody>\n",
       "</table>\n",
       "<p>100 rows × 4 columns</p>\n",
       "</div>"
      ],
      "text/plain": [
       "    Group         Date  Sent  Clicked\n",
       "0       1          NaN    50        1\n",
       "1       1  Oct  2 2017    50        2\n",
       "2       1  Oct  3 2017    50        4\n",
       "3       1          NaN    50        5\n",
       "4       1  Oct  5 2017    50        1\n",
       "5       1  Oct  6 2017    50        3\n",
       "6       1          NaN    50        2\n",
       "7       1          NaN    50        1\n",
       "8       1  Oct  9 2017    50        2\n",
       "9       1          NaN    50        2\n",
       "10      1  Oct 11 2017    50        2\n",
       "11      1          NaN    50        6\n",
       "12      1  Oct 13 2017    50        4\n",
       "13      1  Oct 14 2017    50        1\n",
       "14      1          NaN    50        1\n",
       "15      1          NaN    50        1\n",
       "16      1          NaN    50        3\n",
       "17      1          NaN    50        3\n",
       "18      1  Oct 19 2017    50        2\n",
       "19      1  Oct 20 2017    50        1\n",
       "20      1          NaN    50        4\n",
       "21      1  Oct 22 2017    50        2\n",
       "22      1  Oct 23 2017    50        3\n",
       "23      1          NaN    50        2\n",
       "24      1  Oct 25 2017    50        1\n",
       "25      1  Oct 26 2017    50        3\n",
       "26      1  Oct 27 2017    50        3\n",
       "27      1  Oct 28 2017    50        1\n",
       "28      1  Oct 29 2017    50        2\n",
       "29      1  Oct 30 2017    50        0\n",
       "..    ...          ...   ...      ...\n",
       "70      3          NaN    50        2\n",
       "71      3  Oct 10 2017    50        2\n",
       "72      3  Oct 11 2017    50        4\n",
       "73      3  Oct 12 2017    50        2\n",
       "74      3  Oct 13 2017    50        5\n",
       "75      3          NaN    50        2\n",
       "76      3  Oct 15 2017    50        4\n",
       "77      3          NaN    50        1\n",
       "78      3          NaN    50        4\n",
       "79      3  Oct 18 2017    50        5\n",
       "80      3  Oct 19 2017    50        4\n",
       "81      3          NaN    50        0\n",
       "82      3          NaN    50        1\n",
       "83      3          NaN    50        2\n",
       "84      3  Oct 23 2017    50        5\n",
       "85      3          NaN    50        1\n",
       "86      3          NaN    50        5\n",
       "87      3  Oct 26 2017    50        4\n",
       "88      3          NaN    50        1\n",
       "89      3  Oct 28 2017    50        0\n",
       "90      3          NaN    50        3\n",
       "91      3          NaN    50        1\n",
       "92      3  Oct 31 2017    50        3\n",
       "93      4  Oct  1 2017    50        2\n",
       "94      4  Oct  2 2017    50        1\n",
       "95      4  Oct  3 2017    50        1\n",
       "96      4  Oct  4 2017    50        3\n",
       "97      4  Oct  5 2017    50        1\n",
       "98      4          NaN    50        5\n",
       "99      4  Oct  7 2017    50        2\n",
       "\n",
       "[100 rows x 4 columns]"
      ]
     },
     "execution_count": 11,
     "metadata": {},
     "output_type": "execute_result"
    }
   ],
   "source": [
    "dfAd = pd.read_csv(\"data/email.csv\")\n",
    "dfAd.head(100)"
   ]
  },
  {
   "cell_type": "markdown",
   "metadata": {},
   "source": [
    "**Part A**: State the null and alternate hypotheses that Johnny should test to see if his ad campaign is an improvement over the company's standard mailer with a CTR of $0.05$. "
   ]
  },
  {
   "cell_type": "markdown",
   "metadata": {},
   "source": [
    "The null hypothesis in this case is $H_0: \\mu = 0.05$.  \n",
    "\n",
    "The alternate hypothesis in this case is $H_1: \\mu > 0.05$.  "
   ]
  },
  {
   "cell_type": "markdown",
   "metadata": {},
   "source": [
    "**Part B**: Test the hypothesis from **Part A** at the $\\alpha = 0.05$ significance level using a p-value test. Is there sufficient evidence for Johnny to conclude that his ad campaign is an improvement?   "
   ]
  },
  {
   "cell_type": "markdown",
   "metadata": {},
   "source": [
    "In order to do this problem we need to calculate the CTR of every row of the dataset. From there we need to take the mean of that value to get the proportion of the CTR for the dataset. Utilizing the proportion of the CTR to calculate a z-value for the data and converting the z-value to a p-value we find the p-value and find that since the p-value is greater than $\\alpha$ we fail to reject the alternative hypothesis."
   ]
  },
  {
   "cell_type": "code",
   "execution_count": 12,
   "metadata": {
    "scrolled": true
   },
   "outputs": [
    {
     "name": "stdout",
     "output_type": "stream",
     "text": [
      "Our p-value in this instance is 0.224 which is greater than our test value of 0.05 so the test fails and we are unable to reject the alternative hypothesis.\n"
     ]
    }
   ],
   "source": [
    "alpha = 0.05\n",
    "#CTR = #numclicks / Numsent\n",
    "# dfAd[\"CTR\"] = np.where(dfAd[\"Clicked\"] < 1, dfAd[\"Clicked\"], dfAd[\"Clicked\"]/dfAd[\"Sent\"])\n",
    "\n",
    "# #print (dfAd)\n",
    "#CTRMean = dfAd[\"CTR\"].mean()\n",
    "# print(CTRMean)\n",
    "p = 0.05\n",
    "CTRVar = p * (1-p)\n",
    "datasize = dfAd[\"Sent\"].sum()\n",
    "#print(datasize)\n",
    "ClickProp = dfAd[\"Clicked\"].sum() /  dfAd[\"Sent\"].sum()\n",
    "z_val = (ClickProp-0.05)/ (np.sqrt(CTRVar/datasize))\n",
    "#print(z_val)\n",
    "#print(ClickProp)\n",
    "p_val = 1 - stats.norm.cdf(z_val)\n",
    "print(\"Our p-value in this instance is {:.3f} which is greater than our test value of 0.05 so the test fails and we are unable to reject the alternative hypothesis.\".format(p_val) )\n",
    "#Clickstd = (dfAd[\"Clicked\"].sum() /  dfAd[\"Sent\"].sum()).std()\n",
    "#print(Clickstd)\n",
    "#print(datasize)\n",
    "#TCTR = 0.05 # Given\n",
    "#zTest = (ClickMean - TCTR) / (Clickstd/np.sqrt(datasize))\n",
    "#print(zTest)\n",
    "# don't worry about dropNa because everything in the dataframe is a part of the experiment"
   ]
  },
  {
   "cell_type": "markdown",
   "metadata": {},
   "source": [
    "Our p-value in this instance is 0.224 which is greater than our test value of 0.05 so the test fails and we are unable to reject the alternative hypothesis.\n"
   ]
  },
  {
   "cell_type": "markdown",
   "metadata": {},
   "source": [
    "**Part C**: Bummer, Johnny thinks. This is the part where he decides to resort to some questionable science.  Maybe there is a reasonable subset of the data for which his alternative hypothesis is supported?  Can he find it?  Can he come up for a reasonable justification for why this subset of the data should be considered while the rest should be discarded? \n",
    "\n",
    "Here are the **rules**: Johnny cannot modify the original data (e.g. by adding nonexistent clicks to certain groups or days) because his boss will surely notice.  Instead he needs to find a subset of the data for which his hypothesis is supported by a p-value test at the $\\alpha = 0.05$ significance level _and_ be able to explain to his supervisors why his sub-selection of the data is reasonable.  \n",
    "\n",
    "In addition to your explanation of why your successful subset of the data is potentially reasonable, be sure to thoroughly explain the details of the tests that you perform and show all of your Python computation.  "
   ]
  },
  {
   "cell_type": "code",
   "execution_count": 13,
   "metadata": {},
   "outputs": [
    {
     "name": "stdout",
     "output_type": "stream",
     "text": [
      "Our p-value in this instance is 0.008 which is less than our test value of 0.05 so the test passes and we are able to reject the alternative hypothesis in favor of the null hypothesis, proving our sub-set of data is reasonable.\n"
     ]
    }
   ],
   "source": [
    "# You can drop NaN and you should drop Group 1. Think about dropping dates\n",
    "dfNoNan = dfAd.dropna()\n",
    "#print(dfNoNan)\n",
    "dfG = dfNoNan.loc[dfNoNan[\"Group\"] == 3]\n",
    "p = 0.05\n",
    "CTRVar = p * (1-p)\n",
    "datasize = dfG[\"Sent\"].sum()\n",
    "#print(datasize)\n",
    "ClickProp = dfG[\"Clicked\"].sum() /  dfG[\"Sent\"].sum()\n",
    "z_val = (ClickProp-0.05)/ (np.sqrt(CTRVar/datasize))\n",
    "#print(z_val)\n",
    "#print(ClickProp)\n",
    "p_val = 1 - stats.norm.cdf(z_val)\n",
    "print(\"Our p-value in this instance is {:.3f} which is less than our test value of 0.05 so the test passes and we are able to reject the alternative hypothesis in favor of the null hypothesis, proving our sub-set of data is reasonable.\".format(p_val) )\n",
    "#Clickstd = (dfAd[\"Clicked\"].sum() /  dfAd[\"Sent\"].sum()).std()\n",
    "#print(Clickstd)\n",
    "#print(dfG)"
   ]
  },
  {
   "cell_type": "markdown",
   "metadata": {},
   "source": [
    "Our p-value in this instance is 0.008 which is less than our test value of 0.05 so the test passes and we are able to reject the alternative hypothesis in favor of the null hypothesis, proving our sub-set of data is reasonable.\n"
   ]
  },
  {
   "cell_type": "markdown",
   "metadata": {
    "collapsed": true
   },
   "source": [
    "We are dropping the NaN values in date category because we are interested in the days people are checking their emails and we are getting our clicks. We can also drop Groups 1, 2 and 4 because there are large gaps between the data entries throughout the month of at least 4 or more days between some of the entries. With that reasoning Group 3 has the best data for an even spread for the entire month with the fewest missing days between each entry."
   ]
  },
  {
   "cell_type": "markdown",
   "metadata": {},
   "source": [
    "### [20 points] Problem 6 - Simple Linear Regression for Gas Mileage \n",
    "***\n",
    "\n",
    "The data in auto.csv contains information on cars from the 1970s and 1980s. In this exercise you will construct a simple linear regression model for the response variable mpg with horsepower as the feature. Load the data into a Pandas DataFrame.    \n"
   ]
  },
  {
   "cell_type": "code",
   "execution_count": 14,
   "metadata": {
    "scrolled": true
   },
   "outputs": [
    {
     "data": {
      "text/html": [
       "<div>\n",
       "<style>\n",
       "    .dataframe thead tr:only-child th {\n",
       "        text-align: right;\n",
       "    }\n",
       "\n",
       "    .dataframe thead th {\n",
       "        text-align: left;\n",
       "    }\n",
       "\n",
       "    .dataframe tbody tr th {\n",
       "        vertical-align: top;\n",
       "    }\n",
       "</style>\n",
       "<table border=\"1\" class=\"dataframe\">\n",
       "  <thead>\n",
       "    <tr style=\"text-align: right;\">\n",
       "      <th></th>\n",
       "      <th>model</th>\n",
       "      <th>year</th>\n",
       "      <th>mpg</th>\n",
       "      <th>cylinders</th>\n",
       "      <th>horsepower</th>\n",
       "      <th>weight</th>\n",
       "    </tr>\n",
       "  </thead>\n",
       "  <tbody>\n",
       "    <tr>\n",
       "      <th>0</th>\n",
       "      <td>chevrolet chevelle malibu</td>\n",
       "      <td>70</td>\n",
       "      <td>18.0</td>\n",
       "      <td>8</td>\n",
       "      <td>130.0</td>\n",
       "      <td>3504.0</td>\n",
       "    </tr>\n",
       "    <tr>\n",
       "      <th>1</th>\n",
       "      <td>buick skylark 320</td>\n",
       "      <td>70</td>\n",
       "      <td>15.0</td>\n",
       "      <td>8</td>\n",
       "      <td>165.0</td>\n",
       "      <td>3693.0</td>\n",
       "    </tr>\n",
       "    <tr>\n",
       "      <th>2</th>\n",
       "      <td>plymouth satellite</td>\n",
       "      <td>70</td>\n",
       "      <td>18.0</td>\n",
       "      <td>8</td>\n",
       "      <td>150.0</td>\n",
       "      <td>3436.0</td>\n",
       "    </tr>\n",
       "    <tr>\n",
       "      <th>3</th>\n",
       "      <td>amc rebel sst</td>\n",
       "      <td>70</td>\n",
       "      <td>16.0</td>\n",
       "      <td>8</td>\n",
       "      <td>150.0</td>\n",
       "      <td>3433.0</td>\n",
       "    </tr>\n",
       "    <tr>\n",
       "      <th>4</th>\n",
       "      <td>ford torino</td>\n",
       "      <td>70</td>\n",
       "      <td>17.0</td>\n",
       "      <td>8</td>\n",
       "      <td>140.0</td>\n",
       "      <td>3449.0</td>\n",
       "    </tr>\n",
       "  </tbody>\n",
       "</table>\n",
       "</div>"
      ],
      "text/plain": [
       "                       model  year   mpg  cylinders  horsepower  weight\n",
       "0  chevrolet chevelle malibu    70  18.0          8       130.0  3504.0\n",
       "1          buick skylark 320    70  15.0          8       165.0  3693.0\n",
       "2         plymouth satellite    70  18.0          8       150.0  3436.0\n",
       "3              amc rebel sst    70  16.0          8       150.0  3433.0\n",
       "4                ford torino    70  17.0          8       140.0  3449.0"
      ]
     },
     "execution_count": 14,
     "metadata": {},
     "output_type": "execute_result"
    }
   ],
   "source": [
    "dfAuto = pd.read_csv(\"data/auto.csv\")\n",
    "dfAuto.head()"
   ]
  },
  {
   "cell_type": "markdown",
   "metadata": {},
   "source": [
    "**Part A**: Perform a simple linear regression with horsepower as the feature and mpg as the response.  Report the estimated regression model in the form $Y = \\alpha + \\beta x$. Do all computations in Python. "
   ]
  },
  {
   "cell_type": "markdown",
   "metadata": {},
   "source": [
    "Equation goes here \n",
    "$$Y_i = \\alpha + \\beta * x_i$$\n",
    "Where the true underlying relationship is \n",
    "$$Y = \\alpha + \\beta * x$$\n",
    "In this instance the feature (x) is horsepower and the response (Y) is the mpg, $\\alpha$ is equal to the intercept of the true regression line and $\\beta$ is the slope of the true regression line."
   ]
  },
  {
   "cell_type": "code",
   "execution_count": 15,
   "metadata": {},
   "outputs": [
    {
     "name": "stdout",
     "output_type": "stream",
     "text": [
      "The equation is equal to: Y = 39.93586 + -0.15784 * x\n"
     ]
    }
   ],
   "source": [
    "Autompg = dfAuto.loc[dfAuto[\"mpg\"]]\n",
    "#print(Autompg)\n",
    "AutoHpwr = dfAuto.loc[dfAuto[\"horsepower\"]]\n",
    "#print(AutoHpwr)\n",
    "CarCount = AutoHpwr.count()\n",
    "#print(CarCount)\n",
    "beta, alpha, r_val, p_val, std_err = stats.linregress(dfAuto[\"horsepower\"], dfAuto[\"mpg\"])\n",
    "#print(alpha)\n",
    "#print(beta)\n",
    "print(\"The equation is equal to: Y = {:.5f} + {:.5f} * x\".format(alpha, beta))"
   ]
  },
  {
   "cell_type": "markdown",
   "metadata": {},
   "source": [
    "The equation is equal to: Y = 39.93586 + (-)0.15784 * x"
   ]
  },
  {
   "cell_type": "markdown",
   "metadata": {},
   "source": [
    "**Part B**: Make a scatter-plot of the data with horsepower as the feature and mpg as the response and overlay the estimated regression line. \n"
   ]
  },
  {
   "cell_type": "code",
   "execution_count": 16,
   "metadata": {},
   "outputs": [
    {
     "data": {
      "text/plain": [
       "Text(0,0.5,'Miles per Gallon (MPG)')"
      ]
     },
     "execution_count": 16,
     "metadata": {},
     "output_type": "execute_result"
    },
    {
     "data": {
      "image/png": "[encoded data removed]",
      "text/plain": [
       "<matplotlib.figure.Figure at 0x7fc388538748>"
      ]
     },
     "metadata": {},
     "output_type": "display_data"
    }
   ],
   "source": [
    "Autompg = dfAuto.loc[dfAuto[\"mpg\"]]\n",
    "AutoHpwr = dfAuto.loc[dfAuto[\"horsepower\"]]\n",
    "# CarCount = AutoHpwr.count()\n",
    "beta, alpha, r_val, p_val, std_err = stats.linregress(dfAuto[\"horsepower\"], dfAuto[\"mpg\"])\n",
    "fig, ax = plt.subplots(nrows=1, ncols=1, figsize=(10,8))\n",
    "ax.scatter(dfAuto[\"horsepower\"], dfAuto[\"mpg\"], color=\"steelblue\")\n",
    "ax.plot(dfAuto[\"horsepower\"], alpha + beta*dfAuto[\"horsepower\"], color = \"black\", lw=3)\n",
    "ax.set_title(\"Horsepower vs. MPG\", fontsize = 20)\n",
    "ax.set_xlabel(\"Horsepower\", fontsize = 12)\n",
    "ax.set_ylabel(\"Miles per Gallon (MPG)\", fontsize = 12)"
   ]
  },
  {
   "cell_type": "markdown",
   "metadata": {},
   "source": [
    "**Part C**: Is the relationship between horsepower and mpg positive or negative? Justify your response. "
   ]
  },
  {
   "cell_type": "markdown",
   "metadata": {},
   "source": [
    "Judging from the line of best fit of the data the relationship between horsepower and MPG appears that as horsepower increases MPG decreases so the overall relationship is negative."
   ]
  },
  {
   "cell_type": "markdown",
   "metadata": {},
   "source": [
    "**Part D**: Find a 95% confidence interval for the slope parameter.  Based on this confidence interval, is there sufficient evidence to believe, at the 95% confidence level, that there is a real relationship between horsepower and mpg? "
   ]
  },
  {
   "cell_type": "markdown",
   "metadata": {},
   "source": [
    "In this case $\\beta$ is the slope value so we need to find the 95% CI for $\\beta$"
   ]
  },
  {
   "cell_type": "code",
   "execution_count": 17,
   "metadata": {},
   "outputs": [
    {
     "name": "stdout",
     "output_type": "stream",
     "text": [
      "The 95% confidence interval for the slope parameter is: [-0.17052, -0.14517]\n"
     ]
    }
   ],
   "source": [
    "#beta +- t_a/2, (dof-2) *stderr\n",
    "beta, alpha, r_val, p_val, std_err = stats.linregress(dfAuto[\"horsepower\"], dfAuto[\"mpg\"])\n",
    "a = 0.05\n",
    "#CarCount = AutoHpwr.count()\n",
    "#print(CarCount)\n",
    "ta = stats.t.ppf((1-a/2), 392-2)\n",
    "#print(ta)\n",
    "#print(beta)\n",
    "#print(std_err)\n",
    "LowerCI = beta - ta * std_err\n",
    "#print(LowerCI)\n",
    "UpperCI = beta + ta * std_err\n",
    "#print(UpperCI)\n",
    "#print(\"The 95% confidence interval for the mean recall measurement for participants that took a nap is is: [{:.5f}, {:.5f}]\".format(LowerCI, UpperCI))\n",
    "\n",
    "print(\"The 95% confidence interval for the slope parameter is: [{:.5f}, {:.5f}]\".format(LowerCI, UpperCI))"
   ]
  },
  {
   "cell_type": "markdown",
   "metadata": {},
   "source": [
    "The 95% confidence interval for the slope parameter is: [-0.17052, -0.14517]\n",
    "\n",
    "Since the confidence interval is negative from the lower bound to the upper bound we know there is a statistically significant relationship between horsepower and mpg."
   ]
  },
  {
   "cell_type": "markdown",
   "metadata": {},
   "source": [
    "**Part E**: Double-check your result from **Part D** by performing an equivalent hypothesis test.  Be sure to state your null and alternative hypotheses and explain your general methodology.  Do your conclusions agree with those made in **Part D**? "
   ]
  },
  {
   "cell_type": "markdown",
   "metadata": {},
   "source": [
    "The null hypothesis in this case is $H_0: \\beta = 0$.  \n",
    "\n",
    "The alternate hypothesis in this case is $H_1: \\beta \\neq 0$.  "
   ]
  },
  {
   "cell_type": "code",
   "execution_count": 18,
   "metadata": {},
   "outputs": [
    {
     "name": "stdout",
     "output_type": "stream",
     "text": [
      "-24.4891351603\n",
      "7.0319890294e-81\n"
     ]
    }
   ],
   "source": [
    "beta, alpha, r_val, p_val, std_err = stats.linregress(dfAuto[\"horsepower\"], dfAuto[\"mpg\"])\n",
    "a = 0.05\n",
    "#TestStat = (bHat - 0) / (SE(bHat))\n",
    "TestStat = (beta - 0)/(std_err)\n",
    "print(TestStat)\n",
    "pa = 2 * stats.t.cdf((TestStat), 392-2)\n",
    "print(pa)"
   ]
  },
  {
   "cell_type": "markdown",
   "metadata": {},
   "source": [
    "Since the p value I calculated was 7.0319890294e-81 and since that is much smaller than the $\\alpha = 0.05$ we can strongly reject the null hypothesis in favor of the alternate hypothesis."
   ]
  },
  {
   "cell_type": "markdown",
   "metadata": {},
   "source": [
    "**Part F**: What gas mileage would your simple linear regression model predict for a car with a horsepower of $97$? "
   ]
  },
  {
   "cell_type": "code",
   "execution_count": 21,
   "metadata": {},
   "outputs": [
    {
     "name": "stdout",
     "output_type": "stream",
     "text": [
      "Based on the calculation above the MPG of a car with 97 horsepower is 24.625 mpg.\n"
     ]
    }
   ],
   "source": [
    "# MPG calc: Y = beta + alpha * x\n",
    "beta, alpha, r_val, p_val, std_err = stats.linregress(dfAuto[\"horsepower\"], dfAuto[\"mpg\"])\n",
    "x = 97\n",
    "Y = alpha + beta * x\n",
    "print(\"Based on the calculation above the MPG of a car with 97 horsepower is {:.3f} mpg.\".format(Y))"
   ]
  },
  {
   "cell_type": "markdown",
   "metadata": {
    "collapsed": true
   },
   "source": [
    "Based on the calculation above the MPG of a car with 97 horsepower is 24.625 mpg"
   ]
  }
 ],
 "metadata": {
  "kernelspec": {
   "display_name": "Python 3",
   "language": "python",
   "name": "python3"
  },
  "language_info": {
   "codemirror_mode": {
    "name": "ipython",
    "version": 3
   },
   "file_extension": ".py",
   "mimetype": "text/x-python",
   "name": "python",
   "nbconvert_exporter": "python",
   "pygments_lexer": "ipython3",
   "version": "3.6.3"
  }
 },
 "nbformat": 4,
 "nbformat_minor": 2
}
