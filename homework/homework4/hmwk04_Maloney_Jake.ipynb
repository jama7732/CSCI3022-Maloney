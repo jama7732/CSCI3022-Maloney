{
 "cells": [
  {
   "cell_type": "markdown",
   "metadata": {},
   "source": [
    "# Homework 4: More Simulation and the Central Limit Theorem \n",
    "***\n",
    "\n",
    "**Name**: Jake Maloney\n",
    "\n",
    "***\n",
    "\n",
    "This assignment is due on Moodle by **5pm on Friday March 16th**. Your solutions to theoretical questions should be done in Markdown/MathJax directly below the associated question.  Your solutions to computational questions should include any specified Python code and results as well as written commentary on your conclusions.  Remember that you are encouraged to discuss the problems with your instructors and classmates, but **you must write all code and solutions on your own**.  For a refresher on the course **Collaboration Policy** click [here](https://github.com/dblarremore/csci3022/blob/master/resources/syllabus.md#collaboration-policy).\n",
    "\n",
    "**NOTES**: \n",
    "\n",
    "- Do **NOT** load or use any Python packages that are not available in Anaconda 3.6. \n",
    "- Some problems with code may be autograded.  If we provide a function API **do not** change it.  If we do not provide a function API then you're free to structure your code however you like. \n",
    "- Because you can technically evaluate notebook cells is a non-linear order, it's a good idea to do Cell $\\rightarrow$ Run All as a check before submitting your solutions.  That way if we need to run your code you will know that it will work as expected. \n",
    "- Submit only this Jupyter notebook to Moodle.  Do not compress it using tar, rar, zip, etc. "
   ]
  },
  {
   "cell_type": "code",
<<<<<<< HEAD
   "execution_count": 6,
=======
   "execution_count": 1,
>>>>>>> ebf59df2dfb5661a87227c221c3ce275ea6fb518
   "metadata": {
    "collapsed": true,
    "scrolled": true
   },
   "outputs": [],
   "source": [
    "import numpy as np\n",
    "import matplotlib.pylab as plt\n",
    "import pandas as pd\n",
    "from scipy.stats import norm\n",
    "%matplotlib inline"
   ]
  },
  {
   "cell_type": "markdown",
   "metadata": {},
   "source": [
    "### [35 points] Problem 1 - Monte Carlo Estimation of Definite Integrals \n",
    "***\n",
    "\n",
    "One really cool application of random variables is using them to approximate integrals/area under a curve.  This method of approximating integrals is used constantly in computational science to approximate really difficult integrals that we never want to do by hand.  In this exercise you'll figure out how we can do this in practice and test your method on a very simple integral. "
   ]
  },
  {
   "cell_type": "markdown",
   "metadata": {},
   "source": [
    "**Part A** Compute by-hand, the integral $f(x) = \\sin(x)$ for $0 \\leq x \\leq \\pi$."
   ]
  },
  {
   "cell_type": "markdown",
   "metadata": {
    "collapsed": true
   },
   "source": [
    "Taking the integral of f(x) means we are taking the integral of sin(x) from 0 to $\\pi$\n",
    "\n",
    "$ \\int f(x) = \\int_0^\\pi sin(x)dx$\n",
    "\n",
    "The integral of sin(x) is equal to - cos(x) and when we utilize the limits we get:\n",
    "\n",
    "$ \\int_0^\\pi sin(x)dx = -cos(x) \\rvert_0^\\pi = 1 - (-1) = 1 + 1 = 2 $\n",
    "\n",
    "So the $ \\int_0^\\pi f(x) = 2$"
   ]
  },
  {
   "cell_type": "markdown",
   "metadata": {},
   "source": [
    "**Part B**: Suppose we sample a random variable $X$ from $U(0,\\pi)$ and another random variable $Y$ from $U(0,1)$ and think of them as $x$- and $y$-coordinates of a point in the box $[0,\\pi] \\times [0,1]$.  If we compute the ratio of points that fall under the curve $f(x)$ to the total points sampled, what does this value estimate? "
   ]
  },
  {
   "cell_type": "markdown",
   "metadata": {
    "collapsed": true
   },
   "source": [
<<<<<<< HEAD
    "This ratio would tell us roughly what portion of our random variables X and Y that lie in the area under the curve of f(x). This means that it would give us the probability of our variables giving us something in the range of what we were expecting them to."
=======
    "This ratio would tell us roughly what portion of our random variables X and Y that lie in the area under the curve of f(x). This means that it would give us the probability of our variables giving us something in the range of what we were expecting them to.\n",
    "\n",
    "Areea under is 2. Area total is pi so we look at dots under = dots total = 2/pi."
>>>>>>> ebf59df2dfb5661a87227c221c3ce275ea6fb518
   ]
  },
  {
   "cell_type": "markdown",
   "metadata": {},
   "source": [
    "**Part C**: How could we modify the process outlined in **Part B** so that our estimator estimates the value of the desired integral? "
   ]
  },
  {
   "cell_type": "markdown",
   "metadata": {
    "collapsed": true
   },
<<<<<<< HEAD
   "source": []
=======
   "source": [
    "We wfound that the ratio is 2/pi and the area is 2 and we would just multiply by pi."
   ]
>>>>>>> ebf59df2dfb5661a87227c221c3ce275ea6fb518
  },
  {
   "cell_type": "markdown",
   "metadata": {},
   "source": [
<<<<<<< HEAD
    "**Part D** Write a function integrate that takes as arguments the number of points to sample and a boolean flag isPlot and approximates the definite integral of $f(x)$ from $0$ to $\\pi$ by sampling $X$ from $U(0,\\pi)$ and $Y$ from $U(0,1)$. Your function should perform 3 tasks: \n",
=======
    "**Part D** Write a function integrate that takes as arguments the number of points to sample and a boolean flag isPlot and approximates the definite integral of $f(x)$ from $0$ to $1$ by sampling $X$ from $U(0,\\pi)$ and $Y$ from $U(0,1)$. Your function should perform 3 tasks: \n",
>>>>>>> ebf59df2dfb5661a87227c221c3ce275ea6fb518
    "\n",
    "1. Return the estimate of the value of the integral. \n",
    "2. Return the sample variance of the random variable being simulated using the np.var function.  \n",
    "4. If isPlot is True, plot the curve $f(x)$ as well as the location of the points $(X,Y)$, colored according to whether they fall above or below the curve. \n",
    "\n",
    "Run your simulation with isPlot=True for $1K$ samples so we can see your plot. Then, run your simulation (with the isPlot=False) with at least $10K$ samples and estimate the value of the given integral.  Does your estimate agree with the exact value of the integral you computed in **Part A**? "
   ]
  },
  {
   "cell_type": "code",
<<<<<<< HEAD
   "execution_count": 1,
=======
   "execution_count": 5,
>>>>>>> ebf59df2dfb5661a87227c221c3ce275ea6fb518
   "metadata": {
    "collapsed": true
   },
   "outputs": [],
   "source": [
    "def integrate(num_samples=int(1e2), isPlot=False):\n",
    "    # TO DO  \n",
<<<<<<< HEAD
    "    estimate = 1.0 \n",
    "    sample_var = 1.0 \n",
    "    return estimate, sample_var "
=======
    "\n",
    "    #plt. plot #sin line\n",
    "    #plt.scatter # for the scatterplot / dots\n",
    "    \n",
    "    #a_sample = np.random.uniform (0, np.pi, num_samples)\n",
    "    x_scatter = [] #which is [0, pi]\n",
    "    y_scatter = [] #which is [0, 1]\n",
    "    Successes = [] # Binomial Array\n",
    "    x = []\n",
    "    y = []\n",
    "    colors = []\n",
    "    \n",
    "    for i in range(num_samples):\n",
    "        x = np.random.uniform (0, np.pi)#, num_samples) #a_sample [0, np.pi] #call to random.uniform\n",
    "        x_scatter.append(x)\n",
    "        y = np.random.uniform (0, 1)#, num_samples) #a_sample [0, 1]\n",
    "        y_scatter.append(y)\n",
    "        \n",
    "       # for i in range()\n",
    "        if (np.sin(x) >= y):\n",
    "            Successes.append(1)\n",
    "            #scatter.append(x)\n",
    "            #scatter.append(y)\n",
    "            colors.append(\"blue\")\n",
    "                \n",
    "        else: #this is a Bernouli\n",
    "            Successes.append(0)\n",
    "            colors.append(\"red\")\n",
    "                \n",
    "    #np.mean(Successes) np.pi\n",
    "    \n",
    "    estimate = np.mean(Successes) * np.pi \n",
    "    sample_var = np.var (Successes)\n",
    "    if(isPlot == True):\n",
    "        SRange = np.arange(0, np.pi, 0.001)\n",
    "        SHeight = np.sin(SRange)\n",
    "\n",
    "        plt.plot(SRange, SHeight, c = \"gray\") #sin line\n",
    "        plt.scatter(x_scatter, y_scatter, c = colors) #for the scatterplot\n",
    "        return estimate, sample_var\n",
    "\n",
    "    elif(isPlot == False):\n",
    "        return estimate, sample_var\n"
   ]
  },
  {
   "cell_type": "code",
   "execution_count": 6,
   "metadata": {},
   "outputs": [
    {
     "data": {
      "text/plain": [
       "(1.9930263794373646, 0.23193664)"
      ]
     },
     "execution_count": 6,
     "metadata": {},
     "output_type": "execute_result"
    }
   ],
   "source": [
    "integrate(10000, False)"
   ]
  },
  {
   "cell_type": "code",
   "execution_count": 7,
   "metadata": {},
   "outputs": [
    {
     "data": {
      "text/plain": [
       "(1.9477874452256718, 0.23560000000000003)"
      ]
     },
     "execution_count": 7,
     "metadata": {},
     "output_type": "execute_result"
    },
    {
     "data": {
      "image/png": "iVBORw0KGgoAAAANSUhEUgAAAXcAAAD8CAYAAACMwORRAAAABHNCSVQICAgIfAhkiAAAAAlwSFlz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\n",
      "text/plain": [
       "<matplotlib.figure.Figure at 0x7f88b51b1e10>"
      ]
     },
     "metadata": {},
     "output_type": "display_data"
    }
   ],
   "source": [
    "integrate(1000, True)"
   ]
  },
  {
   "cell_type": "markdown",
   "metadata": {},
   "source": [
    "Our esitmate of 1.9977388 with a sample variance of 0.23153 is very close to the actual value of our integral which was 2."
>>>>>>> ebf59df2dfb5661a87227c221c3ce275ea6fb518
   ]
  },
  {
   "cell_type": "markdown",
   "metadata": {},
   "source": [
    "**Part E**: In the simulation above, what is distribution of the random variable we're actually sampling and what is/are its parameters?  "
   ]
  },
  {
   "cell_type": "markdown",
   "metadata": {
    "collapsed": true
   },
<<<<<<< HEAD
   "source": []
=======
   "source": [
    "It would be a binomial distribution and the parameters are whether or not a random point is within the curve ploted by sin(x)."
   ]
>>>>>>> ebf59df2dfb5661a87227c221c3ce275ea6fb518
  },
  {
   "cell_type": "markdown",
   "metadata": {},
   "source": [
    "**Part F**: Compute the expected value of the random variable you described in **Part D** by hand.  Does this value agree with the exact value of the integral you computed in **Part A** and the estimated value you computed in **Part C**? "
   ]
  },
  {
   "cell_type": "markdown",
   "metadata": {
    "collapsed": true
   },
   "source": []
  },
  {
   "cell_type": "markdown",
   "metadata": {},
   "source": [
    "**Part G**: Compute the variance of the random variable you described in **Part D** by hand.  Does this value agree with the sample variance observed in **Part C**? "
   ]
  },
  {
   "cell_type": "markdown",
   "metadata": {
    "collapsed": true
   },
   "source": []
  },
  {
   "cell_type": "markdown",
   "metadata": {},
   "source": [
    "### [25 points] Problem 2 - Sampling Freshies\n",
    "***\n",
    "\n",
    "Maureen Ferguson stands alone on the riverbank. Snow has come to Colorado and flakes collect on her majestic pelt and whiskers. She shivers them off not because she is cold but just because her otter reflexes have been honed by millenia of adaptation. She is a biological machine. An inspiration. \n",
    "\n",
    "She wanders into her otter-mansion, hungry. There are piles RiverSnax from the autumn harvest. These are no ordinary RiverSnax, of course. They must be inspected with statistical care so that they are with high probability of the finest quality. You see, Maureen's snax have a freshness score, measured in Freshies, named after Professor Charles Snaxavier Fraeshmann. The average RiverSnack from her current supplier is 91 Freshies, and the standard deviation is 6 Freshies. \n",
    "\n",
    "You are new on the job, excited to apply your CSCI 3022 knowledge, and keen to prove yourself in a big and changing world. You are in charge of sampling the RiverSnax. Your boss, Governor John Hickenlotter, tells you that you must take a sample of Snax and that the average freshness must be no less than 90 Freshies. If the average is below 90 Freshies, the whole pile of RiverSnax must be thrown away, rejected. The current system, when you arrive is to sample 30 snax from each pile to see if the average freshness is above the 90 Freshies threshold. \n",
    "\n",
    "**Part A**:  Say \"Freshies Threshold\" at least 10 times in a row, as quickly as possible. Do not show your work. \n",
    "\n"
   ]
  },
  {
   "cell_type": "markdown",
   "metadata": {
    "collapsed": true
   },
<<<<<<< HEAD
   "source": [
    "Average Freshies is 91\n",
    "\n",
    "Standard Deviation is 6 Freshies\n",
    "\n",
    "If the average is less than 90 we throw the pile away\n",
    "\n",
    "We sample 30 snax from each pile to see if the average is above 90"
   ]
=======
   "source": []
>>>>>>> ebf59df2dfb5661a87227c221c3ce275ea6fb518
  },
  {
   "cell_type": "markdown",
   "metadata": {},
   "source": [
    "**Part B**: What is the probability that a RiverSnack is rejected under the current system of 30 samples?"
   ]
  },
  {
   "cell_type": "markdown",
   "metadata": {
    "collapsed": true
   },
   "source": [
    "We know that the average from the current supplier is 91 Freshies with a standard deviation of 6 Freshies. Our sample size from each pile is 30 snax and if the average is less than 30 we throw the whole pile away.\n",
    "\n",
<<<<<<< HEAD
    "Goal: $P(90 < \\xbar)$\n",
=======
    "Goal: $P(90 < \\bar{x})$\n",
>>>>>>> ebf59df2dfb5661a87227c221c3ce275ea6fb518
    "\n",
    "P(Rejected) = 1 - P(Not-Rejected)\n",
    "\n",
    "$\\mu $ is equal to the average\n",
    "\n",
    "$\\sigma$ is equal to the standard deviation\n",
    "\n",
    "n is the number of samples\n",
    "\n",
    "$ \\mu = 91$\n",
<<<<<<< HEAD
    "P(Not-Rejected) = $ \\bm{\\hat{x}} \\sim N( \\mu,  \\frac{\\sigma^2}{n} = N(91, \\frac{6^2}{30})$  0.18067                                                                      "
=======
    "\n",
    "$\\frac{\\sigma}{\\sqrt{n}} = \\frac{6}{\\sqrt{30}} = 1.0955$\n",
    "\n",
    "Box Muller of Z = $\\frac{\\hat{x}-91}{1.0955}$\n",
    "\n",
    "P(Not-Rejected) = $ {\\bar{x}} \\sim N( \\mu,  \\frac{\\sigma^2}{n} = N(91, \\frac{6^2}{30})$  \n",
    "\n",
    "P(Not-Rejected) = P(90 $\\le$ X $\\le$ 100) by a Box-Muller transformation we can get P($ \\frac{90-91}{1.0955} \\le Z \\le \\frac{100-91}{1.0955}$) = P($ -.91287 \\le Z \\le 8.2154 $)\n",
    "\n",
    "When you calculate the z values and evalulate then you get P(Not-Rejected) = 0.81933\n",
    "\n",
    "1 - 0.81933 = 0.18067\n",
    "\n",
    "So there is only about an 18% chance a pile will be rejected under the current system"
>>>>>>> ebf59df2dfb5661a87227c221c3ce275ea6fb518
   ]
  },
  {
   "cell_type": "code",
<<<<<<< HEAD
   "execution_count": 23,
   "metadata": {},
   "outputs": [
    {
     "data": {
      "text/plain": [
       "-3.2905267314918945"
      ]
     },
     "execution_count": 23,
     "metadata": {},
     "output_type": "execute_result"
    }
   ],
   "source": [
    "norm.ppf((0.001)/2)"
=======
   "execution_count": null,
   "metadata": {
    "collapsed": true
   },
   "outputs": [],
   "source": [
    "#norm.ppf((0.001)/2)"
>>>>>>> ebf59df2dfb5661a87227c221c3ce275ea6fb518
   ]
  },
  {
   "cell_type": "markdown",
   "metadata": {},
   "source": [
    "**Part C**: Well, that's not good enough. Not for our Maureen Ferguson. You propose to Governor Hickelotter that you will get RiverSnax from a new supplier. The new supplier's RiverSnax have a standard deviation of 6 Freshies, just like the old ones. But, they can harvest the RiverSnax from various parts of the river, to adjust the average Freshy level of the RiverSnax, $\\mu$. Gov. Hickenlotter's requirement is that the probability that a pile of RiverSnax is rejected is less than 0.001. What is the minimum average Freshy level $\\mu$ needed in order to achieve the Governor's requirement?\n"
   ]
  },
  {
   "cell_type": "markdown",
   "metadata": {
    "collapsed": true
   },
<<<<<<< HEAD
   "source": []
=======
   "source": [
    "Everything is the same from the last problem except this time we are looking for the $\\mu$ value that gives P(Reected) a value of at most 0.001\n",
    "$$\n",
    "P(Rejected) = Z_{0.001} = \\frac{90-\\mu}{\\frac{6}{\\sqrt{30}}}\n",
    "$$\n",
    "Which by calculating the z value equals\n",
    "$$\n",
    "-3.0902 = \\frac{90-\\mu}{\\frac{6}{\\sqrt{30}}}\n",
    "$$\n",
    "Which by algebra can be simplified to \n",
    "$$\n",
    "-3.0902 \\times \\frac{6}{\\sqrt{30}} = 90 - \\mu\n",
    "$$\n",
    "\n",
    "Which by more algebra is equal to \n",
    "$$\n",
    "\\mu = 90 - -3.0902 \\times \\frac{6}{\\sqrt{30}}\n",
    "$$\n",
    "Which is equal to $\\mu = 86.613$\n",
    "\n",
    "So we need an average level of 86.613 to acheieve the rejected probability being less than 0.001"
   ]
>>>>>>> ebf59df2dfb5661a87227c221c3ce275ea6fb518
  },
  {
   "cell_type": "markdown",
   "metadata": {},
   "source": [
    "**Part D**: You are about to submit your report, given your answer above, when you find out that the new supplier is going out of business. Ugh.  You are stuck with the old RiverSnax. But the Governor's requirement still stands: the probability that a pile of RiverSnax is rejected must be less than 0.001. You decide you'll just take more samples from the existing piles. Surely, the number must be greater than 30, but... what is the minimum number of samples that will ensure that each pile of RiverSnax is rejected with probability less than $0.001$?"
   ]
  },
  {
   "cell_type": "markdown",
   "metadata": {
    "collapsed": true
   },
<<<<<<< HEAD
   "source": []
=======
   "source": [
    "Now we are back with the worse supplier and want to find out how many samples we need to take to have a rejected probability of less than 0.001\n",
    "\n",
    "P(Rejected) = 0.001 = $ {\\bar{x}} \\sim N( \\mu,  \\frac{\\sigma^2}{n} = N(91, \\frac{6^2}{n})$  \n",
    "\n",
    "As a result of the information we already have we can do a Confidence Interval calculation in order to find the n in this case. \n",
    "\n",
    "$$\n",
    "Average-acceptable-value = \\bar{x} + Z_{\\alpha} \\times \\frac{\\sigma}{\\sqrt{n}}\n",
    "$$\n",
    "Where $Z_{\\alpha}$ is equal to -3.0902 from the previous problem and our Average acceptable value is 90.\n",
    "\n",
    "If we input our known values we get \n",
    "$$\n",
    "90 = 91 + (-3.0902) \\times \\frac{6}{\\sqrt{n}}\n",
    "$$\n",
    "Which by algebra\n",
    "$$\n",
    "1 = (-3.0902) \\times \\frac{6}{\\sqrt{n}}\n",
    "$$\n",
    "Which by some more algebra is equal to\n",
    "$$\n",
    "n = {(\\frac{6 \\times -3.0902}{-1} )}^2 = 343.7761\n",
    "$$\n",
    "Since we cannot take a fraction of a sample the minimum number of samples we would have to take to ensure snax perfection would be 344."
   ]
>>>>>>> ebf59df2dfb5661a87227c221c3ce275ea6fb518
  },
  {
   "cell_type": "markdown",
   "metadata": {},
   "source": [
    "**[Extra Credt - 2 points] Part E**: Draw an ASCII picture of Maureen Ferguson. \n",
    "\n",
    " \n"
   ]
  },
  {
   "cell_type": "markdown",
   "metadata": {
    "collapsed": true
   },
<<<<<<< HEAD
   "source": []
=======
   "source": [
    "                        _______________\n",
    "                      __               __\n",
    "                    __                   __\n",
    "                  __       000     000      __\n",
    "                __         000     000         __\n",
    "              __           000     000           __\n",
    "            __       \\                    /        __\n",
    "          __        \\ \\                  / /         __\n",
    "        __         \\ \\ \\      *****     / / /         __\n",
    "          __  ________\\ \\      ***     / /________  __\n",
    "            __      / / /      *        \\ \\       __\n",
    "               __    / /       |         \\ \\ \\ __\n",
    "                 __ / /       /\\          \\ \\ __\n",
    "                   __        /  \\           __\n",
    "                     __     /    \\       __\n",
    "                       __  |      |    __\n",
    "                       __  UUUUUUUU    __ "
   ]
>>>>>>> ebf59df2dfb5661a87227c221c3ce275ea6fb518
  },
  {
   "cell_type": "markdown",
   "metadata": {},
   "source": [
    "### [40 points] Problem 3 - Not-so-Easy Peasy Plinko \n",
    "***\n",
    "\n",
    "[Plinko](http://priceisright.wikia.com/wiki/Plinko), the shining jewel of the gameshow [Price is Right](https://en.wikipedia.org/wiki/The_Price_Is_Right), is a staple of American culture.  Luckily for us, it's also chalk-full of interesting ideas from probability and statistics. The game involves dropping a disc onto an inclined board of pegs and letting it bounce around until it lands in a bin with an associated cash value. Players get to drop some number of discs down the Plinko board and keep their winnings.   \n",
    "\n",
    "In class we looked at a simplified version of Plinko:  \n",
    "\n",
    "![alt text](http://danlarremore.com/misc/plinko1.png)\n",
    "\n",
    "\n",
    "In real life, Plinko has boundaries, positioned symmetrically around the center $c$ at positions $\\ell$ and $r$ s.t. $|c-\\ell| = |c+r|$. The effect of the boundaries are that when the Plinko disc hits the boundary, it can only move back toward the center. In other words, if the disc hits the boundary at $\\ell$, it can only go right at that level. Likewise, if the disc hits the boundary at $r$, it can only go left at that level. \n",
    "\n",
    "For instance, the following board depicts a Plinko game with boundaries at $0.5$ (halfway between the centers of Buckets 0 and 1) and $5.5$ (halfway between Buckets 5 and 6)  The red pegs indicate boundary pegs on which the disc always moves toward the center.   \n",
    "\n",
    "![alt text](http://danlarremore.com/misc/plinko2.png)\n"
   ]
  },
  {
   "cell_type": "markdown",
   "metadata": {},
   "source": [
    "**Part A**: Write a simulator of Plinko that models the disc moving through each of the 6 rows of pegs to its final destination in one of the 7 bins. Let $X$ be the random variable corresponding to the Bucket that the disc lands in. Run your simulation for at least $10K$ trials and plot a density histogram estimate of the PMF of $X$ when the probability of moving left or right when hitting a peg is equal to $p = 0.5$. "
   ]
  },
  {
   "cell_type": "code",
<<<<<<< HEAD
   "execution_count": null,
   "metadata": {
    "collapsed": true
   },
   "outputs": [],
=======
   "execution_count": 16,
   "metadata": {},
   "outputs": [
    {
     "data": {
      "image/png": "iVBORw0KGgoAAAANSUhEUgAAAY4AAAEWCAYAAABxMXBSAAAABHNCSVQICAgIfAhkiAAAAAlwSFlz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\nAElFTkSuQmCC\n",
      "text/plain": [
       "<matplotlib.figure.Figure at 0x7f88ac037320>"
      ]
     },
     "metadata": {},
     "output_type": "display_data"
    }
   ],
>>>>>>> ebf59df2dfb5661a87227c221c3ce275ea6fb518
   "source": [
    "# the move is a binomial: can either move left or right\n",
    "# right is 1 and left is 0\n",
    "# the bucket corresponds to how many rights you make\n",
    "# you call the binomial 6 times\n",
<<<<<<< HEAD
    "plinko_sim():"
=======
    "def plinko_trial(num_rows=6, p=0.5): # The prob is the same for each peg and there are six rows\n",
    "    bucket = 0 # Intitializing the value it lands on as 0\n",
    "    for ii in range(num_rows):\n",
    "        bucket += np.random.choice([0,1], p=[1-p, p]) #Code for the binnomial choice of where the disc goes\n",
    "    return bucket # Returns whatever bucket the disc lands in\n",
    "trial_array = []\n",
    "num_trials = 10000 # Func to do more than one trial of plinko\n",
    "for ii in range(num_trials):\n",
    "    trial_array.append(plinko_trial())\n",
    "\n",
    "fig, ax = plt.subplots()\n",
    "ax.grid(True, alpha = 0.5)\n",
    "ax.set_xlabel(\"Bucket\")\n",
    "ax.set_ylabel(\"Frequency\")\n",
    "ax.set_title(\"Plinko\")\n",
    "ax.hist(trial_array, bins = 7, alpha = 0.5, facecolor=\"steelblue\", edgecolor=\"white\") \n",
    "plt.show()"
>>>>>>> ebf59df2dfb5661a87227c221c3ce275ea6fb518
   ]
  },
  {
   "cell_type": "markdown",
   "metadata": {},
   "source": [
    "**Part B**: Let $X$ be the random variable corresponding to the Bucket that the disc lands in.  Write down the **true** PMF for $X$. (**Hint**: It might be helpful to reflect back on the discussion from Lecture 11). "
   ]
  },
  {
   "cell_type": "markdown",
   "metadata": {
    "collapsed": true
   },
<<<<<<< HEAD
   "source": []
=======
   "source": [
    "Binomial because each left or right is a Bernouli random variable with the bin number is the number of rights you make.\n",
    "\n",
    "PMF(X) = PMF(Bin(n, p)\n",
    "\n",
    "Where p = 0.5 and n = 6\n",
    "\n",
    "$$\n",
    "PMF(X) = {n \\choose 5} \\times p^{5} \\times (1-p)^{n-5}\n",
    "$$"
   ]
>>>>>>> ebf59df2dfb5661a87227c221c3ce275ea6fb518
  },
  {
   "cell_type": "markdown",
   "metadata": {},
   "source": [
    "**Part C**: Write a simulator for Plinko with boundaries. Your code should be similar to your code from **Part A**, but should take in two variable boundaries, left_bound and right_bound, corresponding to the location of the left boundary and right boundary, respectively. \n"
   ]
  },
  {
   "cell_type": "code",
<<<<<<< HEAD
   "execution_count": null,
=======
   "execution_count": 9,
>>>>>>> ebf59df2dfb5661a87227c221c3ce275ea6fb518
   "metadata": {
    "collapsed": true
   },
   "outputs": [],
<<<<<<< HEAD
   "source": []
=======
   "source": [
    "def plinko_trial_bound(num_rows, p, left_bound, right_bound): # The prob is the same for each peg and there are six rows\n",
    "    bucket = 3 # Intitializing the value it lands on as 0\n",
    "    for ii in range(num_rows):\n",
    "        bucket += np.random.choice([-0.5,0.5], p=[1-p, p]) #Code for the binnomial choice of where the disc goes\n",
    "    #return bucket # Returns whatever bucket the disc lands in\n",
    "        if(bucket == left_bound):\n",
    "            bucket = bucket + 0.5\n",
    "        elif(bucket == right_bound):\n",
    "            bucket = bucket - 0.5\n",
    "    return bucket\n",
    "trial_array_bound = []\n",
    "num_trials = 10000 # Func to do more than one trial of plinko\n",
    "for ii in range(num_trials):\n",
    "    trial_array_bound.append(plinko_trial_bound(6, 0.5, -0.5, 6.5))\n",
    "\n",
    "#fig, ax = plt.subplots()\n",
    "#ax.hist(trial_array_bound, bins = 6, alpha = 0.5) \n",
    "#plt.show()"
   ]
>>>>>>> ebf59df2dfb5661a87227c221c3ce275ea6fb518
  },
  {
   "cell_type": "markdown",
   "metadata": {},
   "source": [
    "**Part D**: Consider the board with left_bound $= 0.5$ which looks as follows: \n",
    "\n",
    "![alt text](http://danlarremore.com/misc/plinko3.png)\n",
    "\n",
    "Let $X$ be the random variable corresponding to the Bucket that the disc lands in. Run your simulation for at least $10K$ trials and plot a density histogram estimate of the PMF of $X$. Compare the approximate PMF for this board to the no-boundary board from **Part A**. Explain the mechanism that causes the differences between the two PMFs in words. \n",
    "\n",
    "\n"
   ]
  },
  {
   "cell_type": "code",
<<<<<<< HEAD
   "execution_count": null,
   "metadata": {
    "collapsed": true
   },
   "outputs": [],
   "source": []
=======
   "execution_count": 19,
   "metadata": {},
   "outputs": [
    {
     "data": {
      "image/png": "iVBORw0KGgoAAAANSUhEUgAAAY4AAAEWCAYAAABxMXBSAAAABHNCSVQICAgIfAhkiAAAAAlwSFlz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\nAElFTkSuQmCC\n",
      "text/plain": [
       "<matplotlib.figure.Figure at 0x7f88e7a4f470>"
      ]
     },
     "metadata": {},
     "output_type": "display_data"
    }
   ],
   "source": [
    "def plinko_trial_left_bound(num_rows, p, left_bound, right_bound): # The prob is the same for each peg and there are six rows\n",
    "    bucket = 3 # Intitializing the value it lands on as 0\n",
    "    for ii in range(num_rows):\n",
    "        bucket += np.random.choice([-0.5,0.5], p=[1-p, p]) #Code for the binnomial choice of where the disc goes\n",
    "    #return bucket # Returns whatever bucket the disc lands in\n",
    "        if(bucket == left_bound):\n",
    "            bucket = bucket + 0.5\n",
    "        elif(bucket == right_bound):\n",
    "            bucket = bucket - 0.5\n",
    "    return bucket\n",
    "trial_array_bound_left = []\n",
    "num_trials = 10000 # Func to do more than one trial of plinko\n",
    "for ii in range(num_trials):\n",
    "    trial_array_bound_left.append(plinko_trial_left_bound(6, 0.5, 0.5, 6.5))\n",
    "\n",
    "fig, ax = plt.subplots()\n",
    "ax.grid(True, alpha = 0.5)\n",
    "ax.set_xlabel(\"Bucket\")\n",
    "ax.set_ylabel(\"Frequency\")\n",
    "ax.set_title(\"0.5 Left Bound Plinko\")\n",
    "ax.hist(trial_array_bound, bins = 6, alpha = 0.5, facecolor=\"steelblue\", edgecolor=\"white\") \n",
    "plt.show()"
   ]
  },
  {
   "cell_type": "markdown",
   "metadata": {},
   "source": [
    "As we have eliminated the 0 bucket as a possible option anything that would normally go to that bucket is moving one bucket to the right, thus slightly increasing the number of chips that would go into the 1 bucket."
   ]
>>>>>>> ebf59df2dfb5661a87227c221c3ce275ea6fb518
  },
  {
   "cell_type": "markdown",
   "metadata": {},
   "source": [
    "**Part E**: Now consider the board with left_bound $= 1.5$ which looks as follows: \n",
    "\n",
    "![alt text](http://danlarremore.com/misc/plinko4.png)\n",
    "\n",
    "Let $X$ be the random variable corresponding to the Bucket that the disc lands in. Run your simulation for at least $10K$ trials and plot a density histogram estimate of the PMF of $X$. Compare the approximate PMF for this board to the boards from **Parts A** and **D**. Explain the mechanism that causes the differences between the three PMFs in words. \n"
   ]
  },
  {
   "cell_type": "code",
<<<<<<< HEAD
   "execution_count": null,
   "metadata": {
    "collapsed": true
   },
   "outputs": [],
   "source": []
=======
   "execution_count": 15,
   "metadata": {},
   "outputs": [
    {
     "data": {
      "image/png": "iVBORw0KGgoAAAANSUhEUgAAAY4AAAEWCAYAAABxMXBSAAAABHNCSVQICAgIfAhkiAAAAAlwSFlz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\ny+LgMDOzLA4OMzPL4uAwM7Ms/x+azoni9ljwsQAAAABJRU5ErkJggg==\n",
      "text/plain": [
       "<matplotlib.figure.Figure at 0x7f88ac0f3240>"
      ]
     },
     "metadata": {},
     "output_type": "display_data"
    }
   ],
   "source": [
    "def plinko_trial_bound(num_rows, p, left_bound, right_bound): # The prob is the same for each peg and there are six rows\n",
    "    bucket = 3 # Intitializing the value it lands on as 0\n",
    "    for ii in range(num_rows):\n",
    "        bucket += np.random.choice([-0.5,0.5], p=[1-p, p]) #Code for the binnomial choice of where the disc goes\n",
    "    #return bucket # Returns whatever bucket the disc lands in\n",
    "        if(bucket == left_bound):\n",
    "            bucket = bucket + 0.5\n",
    "        elif(bucket == right_bound):\n",
    "            bucket = bucket - 0.5\n",
    "    return bucket\n",
    "trial_array_bound = []\n",
    "num_trials = 10000 # Func to do more than one trial of plinko\n",
    "for ii in range(num_trials):\n",
    "    trial_array_bound.append(plinko_trial_bound(6, 0.5, 1.5, 6.5))\n",
    "\n",
    "fig, ax = plt.subplots()\n",
    "ax.hist(trial_array_bound, bins = 5, alpha = 0.5, facecolor=\"steelblue\", edgecolor=\"white\") \n",
    "ax.grid(True, alpha = 0.5)\n",
    "ax.set_xlabel(\"Bucket\")\n",
    "ax.set_ylabel(\"Frequency\")\n",
    "ax.set_title(\"1.5 Left Bound Plinko\")\n",
    "plt.show()"
   ]
  },
  {
   "cell_type": "markdown",
   "metadata": {},
   "source": [
    "In this iteration of the bound we have gotten rid of both the 0 and the 1 bucket thus greatly increasing the number of chips that land in the 2nd and 3rd buckets compared to the 4th, 5th and 6th buckets. By increasing the left bound from 0.5 to 1.5 we have seen these changes."
   ]
>>>>>>> ebf59df2dfb5661a87227c221c3ce275ea6fb518
  },
  {
   "cell_type": "markdown",
   "metadata": {},
   "source": [
    "**Part F**: OK, one more. Consider the board with left_bound $= 1.5$ and right_bound $= 5.5$ which looks as follows: \n",
    "\n",
    "![alt text](http://danlarremore.com/misc/plinko5.png)\n",
    "\n",
    "Let $X$ be the random variable corresponding to the Bucket that the disc lands in. Use your observations from **Parts A-D** to write down the **true** PMF of $X$. \n",
    "\n",
    "\n"
   ]
  },
  {
   "cell_type": "code",
<<<<<<< HEAD
   "execution_count": null,
   "metadata": {
    "collapsed": true
   },
   "outputs": [],
   "source": []
=======
   "execution_count": 12,
   "metadata": {},
   "outputs": [
    {
     "data": {
      "image/png": "iVBORw0KGgoAAAANSUhEUgAAAY4AAAEWCAYAAABxMXBSAAAABHNCSVQICAgIfAhkiAAAAAlwSFlz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\nEAUAAAAASUVORK5CYII=\n",
      "text/plain": [
       "<matplotlib.figure.Figure at 0x7f88ac1eb3c8>"
      ]
     },
     "metadata": {},
     "output_type": "display_data"
    }
   ],
   "source": [
    "def plinko_trial_bound(num_rows, p, left_bound, right_bound): # The prob is the same for each peg and there are six rows\n",
    "    bucket = 3 # Intitializing the value it lands on as 0\n",
    "    for ii in range(num_rows):\n",
    "        bucket += np.random.choice([-0.5,0.5], p=[1-p, p]) #Code for the binnomial choice of where the disc goes\n",
    "    #return bucket # Returns whatever bucket the disc lands in\n",
    "        if(bucket == left_bound):\n",
    "            bucket = bucket + 0.5\n",
    "        elif(bucket == right_bound):\n",
    "            bucket = bucket - 0.5\n",
    "    return bucket\n",
    "trial_array_bound = []\n",
    "num_trials = 10000 # Func to do more than one trial of plinko\n",
    "for ii in range(num_trials):\n",
    "    trial_array_bound.append(plinko_trial_bound(6, 0.5, 1.5, 5.5))\n",
    "\n",
    "fig, ax = plt.subplots()\n",
    "ax.hist(trial_array_bound, bins = 4, alpha = 0.5, facecolor=\"steelblue\", edgecolor=\"white\") \n",
    "ax.grid(True, alpha = 0.5)\n",
    "ax.set_xlabel(\"Bucket\")\n",
    "ax.set_ylabel(\"Frequency\")\n",
    "ax.set_title(\"1.5 Left Bound and 0.5 Right Bound Plinko\")\n",
    "\n",
    "plt.show()"
   ]
  },
  {
   "cell_type": "markdown",
   "metadata": {},
   "source": [
    "PMF(X)"
   ]
>>>>>>> ebf59df2dfb5661a87227c221c3ce275ea6fb518
  },
  {
   "cell_type": "markdown",
   "metadata": {},
   "source": [
    "**Part G**: Suppose I challenge you to a _friendly_ game of Plinko on the board from **Part F**. I offer to pay you a dollar amount equal to the bucket that your disc lands in, but also charge you a flat fee for each disc that you play.  How much should I charge you per disc so that we break even in the long run? "
   ]
  },
  {
<<<<<<< HEAD
   "cell_type": "code",
   "execution_count": null,
   "metadata": {
    "collapsed": true
   },
   "outputs": [],
   "source": []
=======
   "cell_type": "markdown",
   "metadata": {
    "collapsed": true
   },
   "source": [
    "Want expected value to be 0.\n",
    "\n"
   ]
>>>>>>> ebf59df2dfb5661a87227c221c3ce275ea6fb518
  },
  {
   "cell_type": "markdown",
   "metadata": {},
   "source": [
    "### Challenge Fun Problem [0 points] - Real-Deal Plinko \n",
    "***\n",
    "\n",
    "Implement a full-blown Plinko simulator based on the actual board from Price is Right, which allows you to choose where to place the disc at the top of the board.  \n",
    "\n",
    "![alt text](https://i.pinimg.com/736x/7d/4b/5b/7d4b5b9ba5cdeceea16433eaadeeaf13--mash-game-plinko-game.jpg)\n",
    "\n",
    "You can actually do this using mostly your code from **Problem 3** and some careful handling of the boundaries relative to where you drop the disc.  Investigate questions like \"What is the optimal position to drop the disc to maximize expected winnings?\" and \"What are the expected winnings if you play Plinko optimally?\"\n",
    "\n",
    "Once you're done with that, it's time to go full-on Meta-Plinko.  Suppose the boundaries of the Plinko board are in their true positions from the real game show, but the board can have an arbitrary number of rows.  Is there a minimum number of rows the board can have at which point the PMF for the distribution becomes approximately uniform?  If not, is there a Bucket, or set of Buckets, that always have a greater chance of claiming the disc? \n"
   ]
  },
  {
   "cell_type": "code",
   "execution_count": null,
   "metadata": {
    "collapsed": true
   },
   "outputs": [],
   "source": []
  }
 ],
 "metadata": {
  "kernelspec": {
   "display_name": "Python 3",
   "language": "python",
   "name": "python3"
  },
  "language_info": {
   "codemirror_mode": {
    "name": "ipython",
    "version": 3
   },
   "file_extension": ".py",
   "mimetype": "text/x-python",
   "name": "python",
   "nbconvert_exporter": "python",
   "pygments_lexer": "ipython3",
   "version": "3.6.3"
  }
 },
 "nbformat": 4,
 "nbformat_minor": 2
}
