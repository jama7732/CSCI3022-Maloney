{
 "cells": [
  {
   "cell_type": "code",
   "execution_count": 1,
   "metadata": {
    "ExecuteTime": {
     "end_time": "2018-02-27T21:20:28.381340Z",
     "start_time": "2018-02-27T21:20:20.084760Z"
    },
    "collapsed": true
   },
   "outputs": [],
   "source": [
    "import numpy as np\n",
    "import matplotlib.pylab as plt\n",
    "#%matplotlib notebook\n",
    "from __future__ import print_function\n",
    "from ipywidgets import interact, interactive, fixed, interact_manual\n",
    "import ipywidgets as widgets"
   ]
  },
  {
   "cell_type": "markdown",
   "metadata": {},
   "source": [
    "Kyle and Sewfphy"
   ]
  },
  {
   "cell_type": "markdown",
   "metadata": {},
   "source": [
    "# Discrete Random Variables"
   ]
  },
  {
   "cell_type": "markdown",
   "metadata": {},
   "source": [
    "## Binomial Distribution"
   ]
  },
  {
   "cell_type": "markdown",
   "metadata": {},
   "source": [
    "The binomial distribution takes 2 parameters: $n$ (the number of trials) and $p$ (probability of a success \\[usually\\]). The binomial distribution maps the number of $\\textit{successes}$ in $n$ trials."
   ]
  },
  {
   "cell_type": "code",
   "execution_count": 2,
   "metadata": {
    "ExecuteTime": {
     "end_time": "2018-02-27T21:20:28.669629Z",
     "start_time": "2018-02-27T21:20:28.385874Z"
    }
   },
   "outputs": [
    {
     "data": {
      "application/vnd.jupyter.widget-view+json": {
       "model_id": "0ffb47ded3f2479dac0108975c3ea74c",
       "version_major": 2,
       "version_minor": 0
      },
      "text/plain": [
       "A Jupyter Widget"
      ]
     },
     "metadata": {},
     "output_type": "display_data"
    }
   ],
   "source": [
    "def binomi(number_of_outcomes, p):\n",
    "    x = np.random.binomial(number_of_outcomes, p, size=10000)\n",
    "    fig, ax = plt.subplots(figsize=(12,12))\n",
    "    bins=range(0,number_of_outcomes+1)\n",
    "    ax.hist(x, edgecolor=\"white\")\n",
    "    ax.set_xticks(bins)\n",
    "    plt.show()\n",
    "    return None\n",
    "\n",
    "interact(binomi, number_of_outcomes=widgets.IntSlider(min=1,max=30,step=1,value=1), p=widgets.FloatSlider(min=0,max=1,step=0.1,value=0.5));"
   ]
  },
  {
   "cell_type": "markdown",
   "metadata": {},
   "source": [
    "## Geometric Distribution"
   ]
  },
  {
   "cell_type": "markdown",
   "metadata": {},
   "source": [
    "The geometric distribution maps the probability of getting $\\textbf{one}$ success in $k$ independent trials. The geometric distribution takes parameter $p$ (probability of a success). Ex: How many coin flips until I get a heads?"
   ]
  },
  {
   "cell_type": "code",
   "execution_count": 3,
   "metadata": {
    "ExecuteTime": {
     "end_time": "2018-02-27T21:20:28.935211Z",
     "start_time": "2018-02-27T21:20:28.672568Z"
    }
   },
   "outputs": [
    {
     "data": {
      "application/vnd.jupyter.widget-view+json": {
       "model_id": "424bb624e9f24f2fb8302273f31aede4",
       "version_major": 2,
       "version_minor": 0
      },
      "text/plain": [
       "A Jupyter Widget"
      ]
     },
     "metadata": {},
     "output_type": "display_data"
    },
    {
     "data": {
      "text/plain": [
       "<function __main__.geo>"
      ]
     },
     "execution_count": 3,
     "metadata": {},
     "output_type": "execute_result"
    }
   ],
   "source": [
    "def geo(p):\n",
    "    x = np.random.geometric(p=p, size=10000)\n",
    "    fig, ax = plt.subplots(figsize=(12, 12))\n",
    "    ax.hist(x, edgecolor=\"white\")\n",
    "    plt.show()\n",
    "    return None\n",
    "\n",
    "\n",
    "interact(geo, p=widgets.FloatSlider(min=.1, max=1, step=0.1, value=0.5))"
   ]
  },
  {
   "cell_type": "markdown",
   "metadata": {},
   "source": [
    "## Negative Binomial Distribution"
   ]
  },
  {
   "cell_type": "markdown",
   "metadata": {},
   "source": [
    "The Negative Binomial distribution takes two parameters, $p$ (probability of a success) and $r$ (target number of successes). It maps the probability of getting $r$ successes in $k$ independent trials. Ex: How many coin flips until I get 3 heads?"
   ]
  },
  {
   "cell_type": "code",
   "execution_count": 4,
   "metadata": {
    "ExecuteTime": {
     "end_time": "2018-02-27T21:20:29.218862Z",
     "start_time": "2018-02-27T21:20:28.938004Z"
    }
   },
   "outputs": [
    {
     "data": {
      "application/vnd.jupyter.widget-view+json": {
       "model_id": "2dce8f44fb31414497374e24e7d7e71b",
       "version_major": 2,
       "version_minor": 0
      },
      "text/plain": [
       "A Jupyter Widget"
      ]
     },
     "metadata": {},
     "output_type": "display_data"
    },
    {
     "data": {
      "text/plain": [
       "<function __main__.neg_binom>"
      ]
     },
     "execution_count": 4,
     "metadata": {},
     "output_type": "execute_result"
    }
   ],
   "source": [
    "def neg_binom(r, p):\n",
    "    x = np.random.negative_binomial(r, p, 10000)\n",
    "    fig, ax = plt.subplots(figsize=(12, 12))\n",
    "    ax.hist(x, edgecolor=\"white\")\n",
    "    plt.show()\n",
    "    return None\n",
    "\n",
    "\n",
    "interact(neg_binom, r=widgets.IntSlider(min=1,max=30,step=1,value=1), p=widgets.FloatSlider(min=0.1,max=1,step=0.1,value=0.5))"
   ]
  },
  {
   "cell_type": "markdown",
   "metadata": {
    "collapsed": true
   },
   "source": [
    "# Poisson Distribution "
   ]
  },
  {
   "cell_type": "markdown",
   "metadata": {
    "collapsed": true
   },
   "source": [
    "The Poisson Distribution takes parameter $\\lambda$ which refers to the $rate$ of the target event occuring. This distribution maps the probability of $k$ events occuring in a specific amount of time. Ex: How many texts do I get in an hour?"
   ]
  },
  {
   "cell_type": "code",
   "execution_count": 5,
   "metadata": {
    "ExecuteTime": {
     "end_time": "2018-02-27T21:20:29.492952Z",
     "start_time": "2018-02-27T21:20:29.221798Z"
    }
   },
   "outputs": [
    {
     "data": {
      "application/vnd.jupyter.widget-view+json": {
       "model_id": "68e428645cdc46968ce5e3702aa3e2c1",
       "version_major": 2,
       "version_minor": 0
      },
      "text/plain": [
       "A Jupyter Widget"
      ]
     },
     "metadata": {},
     "output_type": "display_data"
    },
    {
     "data": {
      "text/plain": [
       "<function __main__.poisson>"
      ]
     },
     "execution_count": 5,
     "metadata": {},
     "output_type": "execute_result"
    }
   ],
   "source": [
    "def poisson(lam):\n",
    "    x = np.random.poisson(lam, 10000)\n",
    "    fig, ax = plt.subplots(figsize=(12, 12))\n",
    "    ax.hist(x, edgecolor=\"white\")\n",
    "    plt.show()\n",
    "    return None\n",
    "\n",
    "\n",
    "interact(poisson, lam=widgets.IntSlider(min=1,max=30,step=1,value=1))"
   ]
  },
  {
   "cell_type": "markdown",
   "metadata": {},
   "source": [
    "# Continuous Random Variables"
   ]
  },
  {
   "cell_type": "markdown",
   "metadata": {},
   "source": [
    "## Exponential Distribution"
   ]
  },
  {
   "cell_type": "markdown",
   "metadata": {},
   "source": [
    "The Exponential Distribution takes parameter $\\lambda$ (rate of events). The exponential distribution maps the time in between target events. Ex: How much time passes before another rain drop falls on Ralphie's silky coat?"
   ]
  },
  {
   "cell_type": "code",
   "execution_count": 7,
   "metadata": {
    "ExecuteTime": {
     "end_time": "2018-02-27T21:50:08.598959Z",
     "start_time": "2018-02-27T21:50:08.381790Z"
    }
   },
   "outputs": [
    {
     "data": {
      "application/vnd.jupyter.widget-view+json": {
       "model_id": "3853c786e968448dbcce4794c5094dd3",
       "version_major": 2,
       "version_minor": 0
      },
      "text/plain": [
       "A Jupyter Widget"
      ]
     },
     "metadata": {},
     "output_type": "display_data"
    },
    {
     "data": {
      "text/plain": [
       "<function __main__.exp>"
      ]
     },
     "execution_count": 7,
     "metadata": {},
     "output_type": "execute_result"
    }
   ],
   "source": [
    "def exp(lam):\n",
    "    x = np.random.exponential(scale=1/lam, size=10000)\n",
    "    fig, ax = plt.subplots(figsize=(12, 12))\n",
    "    ax.hist(x, edgecolor=\"white\")\n",
    "    plt.show()\n",
    "    return None\n",
    "\n",
    "\n",
    "interact(exp, lam=widgets.IntSlider(min=1,max=30,step=1,value=1))"
   ]
  },
  {
   "cell_type": "code",
   "execution_count": null,
   "metadata": {
    "collapsed": true
   },
   "outputs": [],
   "source": []
  }
 ],
 "metadata": {
  "kernelspec": {
   "display_name": "Python 3",
   "language": "python",
   "name": "python3"
  },
  "language_info": {
   "codemirror_mode": {
    "name": "ipython",
    "version": 3
   },
   "file_extension": ".py",
   "mimetype": "text/x-python",
   "name": "python",
   "nbconvert_exporter": "python",
   "pygments_lexer": "ipython3",
   "version": "3.6.3"
  }
 },
 "nbformat": 4,
 "nbformat_minor": 2
}
